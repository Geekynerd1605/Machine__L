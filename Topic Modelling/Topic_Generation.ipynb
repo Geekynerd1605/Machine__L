{
 "cells": [
  {
   "cell_type": "code",
   "execution_count": 6,
   "id": "4597fbdb",
   "metadata": {},
   "outputs": [
    {
     "name": "stderr",
     "output_type": "stream",
     "text": [
      "[nltk_data] Downloading package punkt to /home/hb/nltk_data...\n",
      "[nltk_data]   Package punkt is already up-to-date!\n",
      "[nltk_data] Downloading package wordnet to /home/hb/nltk_data...\n",
      "[nltk_data]   Package wordnet is already up-to-date!\n"
     ]
    }
   ],
   "source": [
    "import pandas as pd\n",
    "import nltk\n",
    "import re\n",
    "import spacy\n",
    "\n",
    "nltk.download('punkt')\n",
    "from nltk.corpus import stopwords\n",
    "from nltk.tokenize import word_tokenize\n",
    "from nltk.stem import WordNetLemmatizer\n",
    "nltk.download('wordnet')\n",
    "\n",
    "# libraries for visualization\n",
    "import pyLDAvis\n",
    "import pyLDAvis.gensim\n",
    "import matplotlib.pyplot as plt\n",
    "import seaborn as sns\n",
    "%matplotlib inline\n",
    "\n",
    "import gensim\n",
    "from gensim.corpora import Dictionary\n",
    "from gensim import corpora\n",
    "from gensim.models import LdaModel\n",
    "from gensim.models import Phrases\n",
    "from sklearn.decomposition import LatentDirichletAllocation\n",
    "from sklearn.feature_extraction.text import TfidfVectorizer\n",
    "from collections import Counter\n",
    "\n"
   ]
  },
  {
   "cell_type": "code",
   "execution_count": 7,
   "id": "6eb02a8d",
   "metadata": {},
   "outputs": [],
   "source": [
    "# test_data=[\"Space exploration has always fascinated humanity, igniting our curiosity about the vast unknown.\",\n",
    "#            \"The advancements in technology have propelled space exploration to new heights, enabling us to delve deeper into the mysteries of the cosmos.\",\n",
    "#            \"Sustainable agriculture is an essential approach to ensure long-term food security and environmental conservation.\",\n",
    "#            \"The pursuit of space exploration has resulted in groundbreaking discoveries, expanding our knowledge of the universe.\", \n",
    "#            \"Space exploration demands meticulous planning and rigorous training to ensure the safety of astronauts.\",\n",
    "#            \"The future of space exploration holds immense potential for scientific breakthroughs and the colonization of other celestial bodies.\",\n",
    "# #            \"Sustainable agriculture practices also prioritize the well-being of farmers, ensuring fair wages and safe working conditions.\",\n",
    "#            \"The funding and support for space exploration are crucial to foster innovation and propel humanity towards new frontiers.\",\n",
    "#            \"The risks associated with space exploration are significant, but the rewards in terms of scientific knowledge and technological advancements are equally immense.\",\n",
    "#            \"Space exploration inspires generations of young minds, encouraging them to pursue careers in science, technology, engineering, and mathematics (STEM) fields.\",\n",
    "#            \"International collaboration plays a vital role in space exploration, as countries pool their resources and expertise to achieve common goals.\",\n",
    "#            \"The dream of space exploration fuels our imagination and reminds us of the limitless possibilities that lie beyond our home planet.\"]"
   ]
  },
  {
   "cell_type": "code",
   "execution_count": 8,
   "id": "9e8dc402",
   "metadata": {},
   "outputs": [],
   "source": [
    "test_data = [\"The IPL finale was a nail-biting encounter between two power-packed teams.\",\n",
    "            \"The IPL finale witnessed a record-breaking attendance at the stadium, creating an electrifying atmosphere.\",\n",
    "            \"The IPL finale showcased exceptional performances from both batsmen and bowlers, making it a thrilling contest.\",\n",
    "            \"Artificial intelligence has revolutionized various industries, transforming the way we live and work.\",\n",
    "            \"Renewable energy sources are becoming increasingly popular as the world seeks sustainable alternatives to fossil fuels.\",\n",
    "            \"The IPL finale marked the end of a fantastic season, leaving fans eagerly awaiting the next edition.\",\n",
    "            \"The match played in the IPL finale was a rollercoaster ride of emotions, with unpredictable twists and turns till the very last ball.\",\n",
    "            \"The people in IPL finale witnessed a remarkable display of sportsmanship and camaraderie among the players.\",\n",
    "            \"It was a grand spectacle, with dazzling fireworks and captivating entertainment to watch the IPL finale.\",\n",
    "            \"The CSK was crowned the best team of the season as the deserving champions after the IPL finale match.\",\n",
    "            \"This year's IPL finale will be etched in the memories of fans for years to come, as an unforgettable cricketing extravaganza.\", \n",
    "            \"The IPL finale exemplified the spirit of the game and its ability to unite people from different backgrounds and cultures.\"]\n"
   ]
  },
  {
   "cell_type": "code",
   "execution_count": 4,
   "id": "1a950925",
   "metadata": {},
   "outputs": [],
   "source": [
    "# test_data=[\"Climate change is a pressing global issue that demands immediate attention and collective action.\",\n",
    "#            \"The consequences of climate change, such as rising temperatures and extreme weather events, are becoming increasingly evident.\",\n",
    "#            \"Mitigating climate change requires a comprehensive approach that includes reducing greenhouse gas emissions and adopting sustainable practices.\",\n",
    "#            \"The effects of climate change are felt across the world, affecting ecosystems, economies, and the livelihoods of millions.\",\n",
    "#            \"Climate change poses a threat to biodiversity, leading to the loss of vulnerable species and disrupting delicate ecosystems.\",\n",
    "#            \"The need to transition to renewable energy sources is crucial in combating climate change and reducing dependence on fossil fuels.\",\n",
    "#            \"Artificial intelligence (AI) is revolutionizing the healthcare industry, offering transformative solutions to improve patient care and outcomes.\",\n",
    "#            \"Adaptation strategies are essential to help communities and nations cope with the impacts of climate change, such as implementing resilient infrastructure and disaster preparedness plans.\",\n",
    "#            \"Climate change disproportionately affects marginalized communities, exacerbating existing social and economic inequalities.\",\n",
    "#            \"International cooperation is vital in addressing climate change, as countries must work together to implement global agreements and initiatives.\",\n",
    "#            \"Education and awareness are key in fostering a collective understanding of climate change and empowering individuals to take sustainable actions.\",\n",
    "#            \"Through machine learning algorithms, AI can analyze vast amounts of medical data to identify patterns and make accurate predictions, aiding in early diagnosis and treatment decisions.\",\n",
    "#            \"Urgent action is needed to limit global warming to prevent irreversible damage to the planet and future generations.\",\n",
    "#            \"The transition to a low-carbon, climate-resilient society is not only a responsibility but also an opportunity to create a more sustainable and equitable world.\"]"
   ]
  },
  {
   "cell_type": "markdown",
   "id": "5f352d0e",
   "metadata": {},
   "source": [
    "### DATA PREPROCESSING "
   ]
  },
  {
   "cell_type": "code",
   "execution_count": 9,
   "id": "4f742352",
   "metadata": {},
   "outputs": [
    {
     "name": "stdout",
     "output_type": "stream",
     "text": [
      "{'i', 'yourself', 'more', 'it', 'they', \"that'll\", 'yourselves', 'y', 'under', 'up', 'most', 'the', 'should', 'doing', 'then', 't', 'was', 'those', 'same', 'once', 'such', 'herself', 's', \"you'll\", 'wasn', 'nor', \"don't\", \"hasn't\", \"you're\", 'did', 'by', 'which', 'you', 'isn', 'who', 'hasn', 'does', 'wouldn', 'couldn', 'than', 'ours', 'having', 'me', 'o', 'its', 'there', 'mustn', \"you'd\", 'shouldn', 'needn', 'an', 'll', \"needn't\", 'in', 'his', 'from', 'off', 'further', \"haven't\", 'while', 'being', 'yours', 'how', 'these', 'had', 'all', 'at', 'very', \"mightn't\", 'above', 'our', 'if', 'or', 'few', 'theirs', 'after', 'only', \"should've\", 'haven', 're', 'what', \"shan't\", \"hadn't\", 'my', \"didn't\", \"isn't\", 'shan', 'whom', 'for', 'so', 'him', 'are', 'myself', \"wasn't\", 'has', 'a', 'can', 'do', 'have', 'no', 'm', 'any', 'until', 'will', \"it's\", 'now', 'been', \"aren't\", 'about', 'below', 'out', 'doesn', 'between', 'your', 'against', 'here', 'am', 'when', 'were', 'ain', 'and', 'of', 'itself', 'this', 'down', 'why', 'not', 'hadn', 'weren', 'aren', \"won't\", 'but', 'that', 'didn', 'ourselves', \"couldn't\", 'too', 'don', \"she's\", 'them', 'during', 'she', 'with', 'again', 'because', 'into', 'before', 'other', 'hers', \"you've\", 'we', 'he', 'her', 'through', \"shouldn't\", 'themselves', 'to', 'each', 'some', 've', 'won', 'be', \"weren't\", 'own', 'as', 'himself', 'where', 'just', 'over', 'both', \"wouldn't\", 'their', 'd', \"doesn't\", 'mightn', 'on', \"mustn't\", 'ma', 'is'}\n"
     ]
    },
    {
     "name": "stderr",
     "output_type": "stream",
     "text": [
      "[nltk_data] Downloading package stopwords to /home/hb/nltk_data...\n",
      "[nltk_data]   Package stopwords is already up-to-date!\n"
     ]
    }
   ],
   "source": [
    "nltk.download('stopwords')\n",
    "stop_words = set(stopwords.words('english'))\n",
    "print(stop_words)"
   ]
  },
  {
   "cell_type": "code",
   "execution_count": 10,
   "id": "2c718549",
   "metadata": {},
   "outputs": [],
   "source": [
    "nlp = spacy.load('en_core_web_md', disable=['parser', 'ner'])"
   ]
  },
  {
   "cell_type": "code",
   "execution_count": 11,
   "id": "79313799",
   "metadata": {},
   "outputs": [
    {
     "name": "stderr",
     "output_type": "stream",
     "text": [
      "[nltk_data] Downloading package stopwords to /home/hb/nltk_data...\n",
      "[nltk_data]   Package stopwords is already up-to-date!\n"
     ]
    }
   ],
   "source": [
    "nltk.download('stopwords')\n",
    "\n",
    "def remove_punctuation(text):\n",
    "    result = ''.join(filter(lambda x: x.isalpha() or x.isdigit() or x.isspace(), text))\n",
    "    return result\n",
    "\n",
    "def to_lower(text):\n",
    "    lower_case = text.lower()\n",
    "    return lower_case\n",
    "\n",
    "def remove_stopwords(text):\n",
    "    textArr = text.split(' ')\n",
    "    rem_text = \" \".join([i for i in textArr if i not in stop_words])\n",
    "    return rem_text\n",
    "\n",
    "def lemmatization(texts, allowed_postags=['NOUN', 'ADJ']): \n",
    "    output = []\n",
    "    for sent in texts:\n",
    "        doc = nlp(sent) \n",
    "        output.append([token.lemma_ for token in doc if token.pos_ in allowed_postags ])\n",
    "    return output\n",
    "\n",
    "def identify_pos(text):\n",
    "    tokens = nltk.word_tokenize(text)\n",
    "    pos_tags = nltk.pos_tag(tokens)\n",
    "    return pos_tags\n",
    "\n"
   ]
  },
  {
   "cell_type": "code",
   "execution_count": 12,
   "id": "710e1fb1",
   "metadata": {},
   "outputs": [
    {
     "name": "stdout",
     "output_type": "stream",
     "text": [
      "[[('ipl', 'JJ'), ('finale', 'NN'), ('nailbiting', 'VBG'), ('encounter', 'RB'), ('two', 'CD'), ('powerpacked', 'VBD'), ('teams', 'NNS')], [('ipl', 'JJ'), ('finale', 'NN'), ('witnessed', 'VBD'), ('recordbreaking', 'VBG'), ('attendance', 'NN'), ('stadium', 'NN'), ('creating', 'VBG'), ('electrifying', 'VBG'), ('atmosphere', 'NN')], [('ipl', 'JJ'), ('finale', 'NN'), ('showcased', 'VBD'), ('exceptional', 'JJ'), ('performances', 'NNS'), ('batsmen', 'VBP'), ('bowlers', 'NNS'), ('making', 'VBG'), ('thrilling', 'VBG'), ('contest', 'NN')], [('artificial', 'JJ'), ('intelligence', 'NN'), ('revolutionized', 'VBD'), ('various', 'JJ'), ('industries', 'NNS'), ('transforming', 'VBG'), ('way', 'NN'), ('live', 'JJ'), ('work', 'NN')], [('renewable', 'JJ'), ('energy', 'NN'), ('sources', 'NNS'), ('becoming', 'VBG'), ('increasingly', 'RB'), ('popular', 'JJ'), ('world', 'NN'), ('seeks', 'VBZ'), ('sustainable', 'JJ'), ('alternatives', 'NNS'), ('fossil', 'VBP'), ('fuels', 'NNS')], [('ipl', 'JJ'), ('finale', 'NN'), ('marked', 'VBD'), ('end', 'JJ'), ('fantastic', 'JJ'), ('season', 'NN'), ('leaving', 'VBG'), ('fans', 'NNS'), ('eagerly', 'RB'), ('awaiting', 'VBG'), ('next', 'JJ'), ('edition', 'NN')], [('match', 'NN'), ('played', 'VBD'), ('ipl', 'JJ'), ('finale', 'JJ'), ('rollercoaster', 'NN'), ('ride', 'NN'), ('emotions', 'NNS'), ('unpredictable', 'JJ'), ('twists', 'NNS'), ('turns', 'VBZ'), ('till', 'NN'), ('last', 'JJ'), ('ball', 'NN')], [('people', 'NNS'), ('ipl', 'VBP'), ('finale', 'JJ'), ('witnessed', 'VBN'), ('remarkable', 'JJ'), ('display', 'NN'), ('sportsmanship', 'NN'), ('camaraderie', 'NN'), ('among', 'IN'), ('players', 'NNS')], [('grand', 'JJ'), ('spectacle', 'NN'), ('dazzling', 'VBG'), ('fireworks', 'NNS'), ('captivating', 'VBG'), ('entertainment', 'NN'), ('watch', 'NN'), ('ipl', 'NN'), ('finale', 'NN')], [('csk', 'NN'), ('crowned', 'VBD'), ('best', 'JJS'), ('team', 'NN'), ('season', 'NN'), ('deserving', 'VBG'), ('champions', 'NNS'), ('ipl', 'VBP'), ('finale', 'JJ'), ('match', 'NN')], [('years', 'NNS'), ('ipl', 'VBP'), ('finale', 'RB'), ('etched', 'VBN'), ('memories', 'NNS'), ('fans', 'NNS'), ('years', 'NNS'), ('come', 'VBP'), ('unforgettable', 'JJ'), ('cricketing', 'NN'), ('extravaganza', 'NN')], [('ipl', 'JJ'), ('finale', 'NN'), ('exemplified', 'VBD'), ('spirit', 'JJ'), ('game', 'NN'), ('ability', 'NN'), ('unite', 'JJ'), ('people', 'NNS'), ('different', 'JJ'), ('backgrounds', 'NNS'), ('cultures', 'NNS')]]\n"
     ]
    }
   ],
   "source": [
    "final_list = []\n",
    "tagged_list = []\n",
    "\n",
    "for line in test_data:\n",
    "    re_pun = remove_punctuation(line)\n",
    "    lower = to_lower(re_pun)\n",
    "    re_stop = remove_stopwords(lower)\n",
    "    final_list.append(re_stop)\n",
    "\n",
    "for line in final_list:\n",
    "    tag_line = identify_pos(line)\n",
    "    tagged_list.append(tag_line)\n",
    "\n",
    "print(tagged_list)\n",
    "\n"
   ]
  },
  {
   "cell_type": "markdown",
   "id": "56549840",
   "metadata": {},
   "source": [
    "### Finding the different possible word combinations"
   ]
  },
  {
   "cell_type": "code",
   "execution_count": 13,
   "id": "f64e89f2",
   "metadata": {},
   "outputs": [],
   "source": [
    "def filter_word_combinations(data):\n",
    "    verb_noun_combinations = []\n",
    "    adj_noun_combinations = []\n",
    "    noun_noun_combinations = []\n",
    "    adj_verb_combinations = []\n",
    "\n",
    "    for sublist in data:\n",
    "        for i in range(len(sublist) - 1):\n",
    "            word1, pos1 = sublist[i]\n",
    "            word2, pos2 = sublist[i + 1]\n",
    "\n",
    "            if pos1.startswith('VB') and pos2.startswith('NN'):\n",
    "                verb_noun_combinations.append((word1+\"_\"+word2))\n",
    "            elif pos1.startswith('JJ') and pos2.startswith('NN'):\n",
    "                adj_noun_combinations.append((word1 + \"_\"+ word2))\n",
    "            elif pos1.startswith('NN') and pos2.startswith('NN'):\n",
    "                noun_noun_combinations.append((word1+\"_\"+word2))\n",
    "            elif pos1.startswith('JJ') and pos2.startswith('VB'):\n",
    "                adj_verb_combinations.append((word1+\"_\"+word2))\n",
    "\n",
    "    return verb_noun_combinations, adj_noun_combinations, noun_noun_combinations, adj_verb_combinations\n",
    "\n",
    "verb_noun, adj_noun, noun_noun, adj_verb = filter_word_combinations(tagged_list)\n"
   ]
  },
  {
   "cell_type": "code",
   "execution_count": 14,
   "id": "6eb14956",
   "metadata": {},
   "outputs": [
    {
     "name": "stdout",
     "output_type": "stream",
     "text": [
      "Verb + Noun Combinations:\n",
      "powerpacked_teams\n",
      "recordbreaking_attendance\n",
      "electrifying_atmosphere\n",
      "batsmen_bowlers\n",
      "thrilling_contest\n",
      "transforming_way\n",
      "fossil_fuels\n",
      "leaving_fans\n",
      "turns_till\n",
      "dazzling_fireworks\n",
      "captivating_entertainment\n",
      "deserving_champions\n",
      "etched_memories\n"
     ]
    }
   ],
   "source": [
    "bigrams = []\n",
    "print(\"Verb + Noun Combinations:\")\n",
    "for combination in verb_noun:\n",
    "    bigrams.append(combination)\n",
    "    print(combination)\n",
    "\n"
   ]
  },
  {
   "cell_type": "code",
   "execution_count": 15,
   "id": "30bbf28c",
   "metadata": {},
   "outputs": [
    {
     "name": "stdout",
     "output_type": "stream",
     "text": [
      "\n",
      "Adjective + Noun Combinations:\n",
      "ipl_finale\n",
      "ipl_finale\n",
      "ipl_finale\n",
      "exceptional_performances\n",
      "artificial_intelligence\n",
      "various_industries\n",
      "live_work\n",
      "renewable_energy\n",
      "popular_world\n",
      "sustainable_alternatives\n",
      "ipl_finale\n",
      "fantastic_season\n",
      "next_edition\n",
      "finale_rollercoaster\n",
      "unpredictable_twists\n",
      "last_ball\n",
      "remarkable_display\n",
      "grand_spectacle\n",
      "best_team\n",
      "finale_match\n",
      "unforgettable_cricketing\n",
      "ipl_finale\n",
      "spirit_game\n",
      "unite_people\n",
      "different_backgrounds\n"
     ]
    }
   ],
   "source": [
    "print(\"\\nAdjective + Noun Combinations:\")\n",
    "for combination in adj_noun:\n",
    "    bigrams.append(combination)\n",
    "    print(combination)"
   ]
  },
  {
   "cell_type": "code",
   "execution_count": 16,
   "id": "f2698d32",
   "metadata": {
    "scrolled": false
   },
   "outputs": [
    {
     "name": "stdout",
     "output_type": "stream",
     "text": [
      "\n",
      "Noun + Noun Combinations:\n",
      "attendance_stadium\n",
      "energy_sources\n",
      "rollercoaster_ride\n",
      "ride_emotions\n",
      "display_sportsmanship\n",
      "sportsmanship_camaraderie\n",
      "entertainment_watch\n",
      "watch_ipl\n",
      "ipl_finale\n",
      "team_season\n",
      "memories_fans\n",
      "fans_years\n",
      "cricketing_extravaganza\n",
      "game_ability\n",
      "backgrounds_cultures\n"
     ]
    }
   ],
   "source": [
    "print(\"\\nNoun + Noun Combinations:\")\n",
    "for combination in noun_noun:\n",
    "    bigrams.append(combination)\n",
    "    print(combination)"
   ]
  },
  {
   "cell_type": "code",
   "execution_count": 17,
   "id": "35611523",
   "metadata": {},
   "outputs": [
    {
     "name": "stdout",
     "output_type": "stream",
     "text": [
      "\n",
      "Adjective + Verb Combinations:\n",
      "finale_witnessed\n"
     ]
    }
   ],
   "source": [
    "print(\"\\nAdjective + Verb Combinations:\")\n",
    "for combination in adj_verb:\n",
    "    bigrams.append(combination)\n",
    "    print(combination)"
   ]
  },
  {
   "cell_type": "code",
   "execution_count": 18,
   "id": "15bb7a2e",
   "metadata": {
    "scrolled": true
   },
   "outputs": [
    {
     "name": "stdout",
     "output_type": "stream",
     "text": [
      "['powerpacked_teams', 'recordbreaking_attendance', 'electrifying_atmosphere', 'batsmen_bowlers', 'thrilling_contest', 'transforming_way', 'fossil_fuels', 'leaving_fans', 'turns_till', 'dazzling_fireworks', 'captivating_entertainment', 'deserving_champions', 'etched_memories', 'ipl_finale', 'ipl_finale', 'ipl_finale', 'exceptional_performances', 'artificial_intelligence', 'various_industries', 'live_work', 'renewable_energy', 'popular_world', 'sustainable_alternatives', 'ipl_finale', 'fantastic_season', 'next_edition', 'finale_rollercoaster', 'unpredictable_twists', 'last_ball', 'remarkable_display', 'grand_spectacle', 'best_team', 'finale_match', 'unforgettable_cricketing', 'ipl_finale', 'spirit_game', 'unite_people', 'different_backgrounds', 'attendance_stadium', 'energy_sources', 'rollercoaster_ride', 'ride_emotions', 'display_sportsmanship', 'sportsmanship_camaraderie', 'entertainment_watch', 'watch_ipl', 'ipl_finale', 'team_season', 'memories_fans', 'fans_years', 'cricketing_extravaganza', 'game_ability', 'backgrounds_cultures', 'finale_witnessed']\n"
     ]
    }
   ],
   "source": [
    "print(bigrams)"
   ]
  },
  {
   "cell_type": "markdown",
   "id": "987581c9",
   "metadata": {},
   "source": [
    "### MODEL TRAINING"
   ]
  },
  {
   "cell_type": "code",
   "execution_count": 19,
   "id": "76be159a",
   "metadata": {},
   "outputs": [
    {
     "name": "stdout",
     "output_type": "stream",
     "text": [
      "Topic 0: 0.085*\"finale_match\" + 0.085*\"deserving_champions\" + 0.085*\"ride_emotions\" + 0.085*\"cricketing_extravaganza\" + 0.085*\"sustainable_alternatives\" + 0.085*\"unforgettable_cricketing\" + 0.085*\"sportsmanship_camaraderie\" + 0.085*\"rollercoaster_ride\" + 0.008*\"ipl_finale\" + 0.008*\"powerpacked_teams\"\n",
      "\n",
      "Topic 1: 0.111*\"thrilling_contest\" + 0.111*\"energy_sources\" + 0.111*\"various_industries\" + 0.111*\"leaving_fans\" + 0.111*\"watch_ipl\" + 0.010*\"ipl_finale\" + 0.010*\"team_season\" + 0.010*\"rollercoaster_ride\" + 0.010*\"memories_fans\" + 0.010*\"entertainment_watch\"\n",
      "\n",
      "Topic 2: 0.159*\"etched_memories\" + 0.159*\"display_sportsmanship\" + 0.014*\"ipl_finale\" + 0.014*\"sportsmanship_camaraderie\" + 0.014*\"spirit_game\" + 0.014*\"fantastic_season\" + 0.014*\"rollercoaster_ride\" + 0.014*\"memories_fans\" + 0.014*\"different_backgrounds\" + 0.014*\"transforming_way\"\n",
      "\n",
      "Topic 3: 0.111*\"captivating_entertainment\" + 0.111*\"renewable_energy\" + 0.111*\"live_work\" + 0.111*\"fossil_fuels\" + 0.111*\"backgrounds_cultures\" + 0.010*\"ipl_finale\" + 0.010*\"rollercoaster_ride\" + 0.010*\"memories_fans\" + 0.010*\"unite_people\" + 0.010*\"different_backgrounds\"\n",
      "\n",
      "Topic 4: 0.139*\"popular_world\" + 0.139*\"unpredictable_twists\" + 0.139*\"electrifying_atmosphere\" + 0.013*\"ipl_finale\" + 0.013*\"memories_fans\" + 0.013*\"unite_people\" + 0.013*\"backgrounds_cultures\" + 0.013*\"last_ball\" + 0.013*\"unforgettable_cricketing\" + 0.013*\"fossil_fuels\"\n",
      "\n",
      "Topic 5: 0.111*\"finale_witnessed\" + 0.111*\"artificial_intelligence\" + 0.111*\"unite_people\" + 0.111*\"batsmen_bowlers\" + 0.111*\"recordbreaking_attendance\" + 0.011*\"ipl_finale\" + 0.010*\"sportsmanship_camaraderie\" + 0.010*\"live_work\" + 0.010*\"remarkable_display\" + 0.010*\"different_backgrounds\"\n",
      "\n",
      "Topic 6: 0.085*\"powerpacked_teams\" + 0.085*\"best_team\" + 0.085*\"dazzling_fireworks\" + 0.085*\"finale_rollercoaster\" + 0.085*\"spirit_game\" + 0.085*\"turns_till\" + 0.085*\"entertainment_watch\" + 0.085*\"memories_fans\" + 0.009*\"ipl_finale\" + 0.008*\"last_ball\"\n",
      "\n",
      "Topic 7: 0.111*\"fans_years\" + 0.111*\"attendance_stadium\" + 0.111*\"transforming_way\" + 0.111*\"next_edition\" + 0.111*\"remarkable_display\" + 0.010*\"ipl_finale\" + 0.010*\"game_ability\" + 0.010*\"sportsmanship_camaraderie\" + 0.010*\"cricketing_extravaganza\" + 0.010*\"unite_people\"\n",
      "\n",
      "Topic 8: 0.472*\"ipl_finale\" + 0.085*\"fantastic_season\" + 0.085*\"different_backgrounds\" + 0.008*\"remarkable_display\" + 0.008*\"captivating_entertainment\" + 0.008*\"transforming_way\" + 0.008*\"renewable_energy\" + 0.008*\"rollercoaster_ride\" + 0.008*\"backgrounds_cultures\" + 0.008*\"watch_ipl\"\n",
      "\n",
      "Topic 9: 0.111*\"grand_spectacle\" + 0.111*\"exceptional_performances\" + 0.111*\"team_season\" + 0.111*\"game_ability\" + 0.111*\"last_ball\" + 0.010*\"ipl_finale\" + 0.010*\"recordbreaking_attendance\" + 0.010*\"electrifying_atmosphere\" + 0.010*\"remarkable_display\" + 0.010*\"attendance_stadium\"\n",
      "\n"
     ]
    }
   ],
   "source": [
    "word_tokens = [bigram.split() for bigram in bigrams]\n",
    "\n",
    "# Create a dictionary from the word tokens\n",
    "dictionary = corpora.Dictionary(word_tokens)\n",
    "\n",
    "# Create a corpus of the word tokens\n",
    "corpus = [dictionary.doc2bow(tokens) for tokens in word_tokens]\n",
    "\n",
    "# Train the LDA model\n",
    "lda_model = LdaModel(corpus=corpus, id2word=dictionary, num_topics=10, passes=10)\n",
    "\n",
    "topics =[]\n",
    "# Print the topics generated by the LDA model\n",
    "for idx, topic in lda_model.print_topics():\n",
    "    topics.append(f\"Topic {idx}: {topic}\\n\")\n",
    "    print(f\"Topic {idx}: {topic}\\n\")\n",
    "\n",
    "\n"
   ]
  },
  {
   "cell_type": "code",
   "execution_count": 20,
   "id": "b600e072",
   "metadata": {},
   "outputs": [
    {
     "data": {
      "text/plain": [
       "[('finale_match', 0.08527106),\n",
       " ('deserving_champions', 0.085271046),\n",
       " ('ride_emotions', 0.08527103),\n",
       " ('cricketing_extravaganza', 0.08527103),\n",
       " ('sustainable_alternatives', 0.08527101),\n",
       " ('unforgettable_cricketing', 0.085271),\n",
       " ('sportsmanship_camaraderie', 0.085270986),\n",
       " ('rollercoaster_ride', 0.08527097),\n",
       " ('ipl_finale', 0.0077520907),\n",
       " ('powerpacked_teams', 0.007752001)]"
      ]
     },
     "execution_count": 20,
     "metadata": {},
     "output_type": "execute_result"
    }
   ],
   "source": [
    "lda_model.show_topic(0)"
   ]
  },
  {
   "cell_type": "code",
   "execution_count": 21,
   "id": "a3254b44",
   "metadata": {},
   "outputs": [],
   "source": [
    "# print(topics)"
   ]
  },
  {
   "cell_type": "code",
   "execution_count": 24,
   "id": "e22e9ebd",
   "metadata": {},
   "outputs": [],
   "source": [
    "# function to extract the most common topics from all the generated topics\n",
    "\n",
    "def extract_common_words(topics):\n",
    "    common_words = set(re.findall(r'\"([^\"]*)\"', topics[0]))\n",
    "\n",
    "    for topic in topics[1:]:\n",
    "        words = set(re.findall(r'\"([^\"]*)\"', topic))\n",
    "        common_words = common_words.intersection(words)\n",
    "\n",
    "    return common_words"
   ]
  },
  {
   "cell_type": "code",
   "execution_count": 23,
   "id": "923ccb51",
   "metadata": {},
   "outputs": [
    {
     "name": "stdout",
     "output_type": "stream",
     "text": [
      "Most Common Topic: {'ipl_finale'}\n"
     ]
    }
   ],
   "source": [
    "common_words = extract_common_words(topics)\n",
    "print(\"Most Common Topic:\", common_words)"
   ]
  }
 ],
 "metadata": {
  "kernelspec": {
   "display_name": "Python 3 (ipykernel)",
   "language": "python",
   "name": "python3"
  },
  "language_info": {
   "codemirror_mode": {
    "name": "ipython",
    "version": 3
   },
   "file_extension": ".py",
   "mimetype": "text/x-python",
   "name": "python",
   "nbconvert_exporter": "python",
   "pygments_lexer": "ipython3",
   "version": "3.8.10"
  }
 },
 "nbformat": 4,
 "nbformat_minor": 5
}
