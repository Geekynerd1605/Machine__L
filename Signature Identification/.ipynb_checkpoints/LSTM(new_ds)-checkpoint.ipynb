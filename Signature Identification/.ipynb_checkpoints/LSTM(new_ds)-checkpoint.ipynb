{
 "cells": [
  {
   "cell_type": "code",
   "execution_count": 1,
   "id": "9bbd2ff2",
   "metadata": {},
   "outputs": [
    {
     "name": "stderr",
     "output_type": "stream",
     "text": [
      "2023-02-28 15:29:20.086517: W tensorflow/compiler/xla/stream_executor/platform/default/dso_loader.cc:64] Could not load dynamic library 'libnvinfer.so.7'; dlerror: libnvinfer.so.7: cannot open shared object file: No such file or directory\n",
      "2023-02-28 15:29:20.086635: W tensorflow/compiler/xla/stream_executor/platform/default/dso_loader.cc:64] Could not load dynamic library 'libnvinfer_plugin.so.7'; dlerror: libnvinfer_plugin.so.7: cannot open shared object file: No such file or directory\n",
      "2023-02-28 15:29:20.086652: W tensorflow/compiler/tf2tensorrt/utils/py_utils.cc:38] TF-TRT Warning: Cannot dlopen some TensorRT libraries. If you would like to use Nvidia GPU with TensorRT, please make sure the missing libraries mentioned above are installed properly.\n",
      "2023-02-28 15:29:22.012428: W tensorflow/compiler/xla/stream_executor/platform/default/dso_loader.cc:64] Could not load dynamic library 'libcuda.so.1'; dlerror: libcuda.so.1: cannot open shared object file: No such file or directory\n",
      "2023-02-28 15:29:22.012468: W tensorflow/compiler/xla/stream_executor/cuda/cuda_driver.cc:265] failed call to cuInit: UNKNOWN ERROR (303)\n",
      "2023-02-28 15:29:22.012498: I tensorflow/compiler/xla/stream_executor/cuda/cuda_diagnostics.cc:156] kernel driver does not appear to be running on this host (hb-HCL-Desktop): /proc/driver/nvidia/version does not exist\n"
     ]
    }
   ],
   "source": [
    "from sklearn.metrics import classification_report, confusion_matrix\n",
    "from sklearn.linear_model import LogisticRegression\n",
    "from sentence_transformers import SentenceTransformer\n",
    "from sklearn.preprocessing import MinMaxScaler\n",
    "from tensorflow.keras import optimizers\n",
    "from keras.layers import Dense, LSTM\n",
    "from keras.models import Sequential\n",
    "from scipy.spatial import distance\n",
    "import matplotlib.pyplot as plt\n",
    "from spacy import displacy\n",
    "import seaborn as sns\n",
    "import pandas as pd\n",
    "import numpy as np\n",
    "import spacy\n",
    "import regex\n",
    "import keras\n",
    "import re\n"
   ]
  },
  {
   "cell_type": "code",
   "execution_count": 2,
   "id": "6c89e5b8",
   "metadata": {
    "scrolled": true
   },
   "outputs": [],
   "source": [
    "NER = spacy.load(\"en_core_web_lg\")"
   ]
  },
  {
   "cell_type": "code",
   "execution_count": 3,
   "id": "9bc35aa0",
   "metadata": {},
   "outputs": [],
   "source": [
    "embedder_model = SentenceTransformer(\"distiluse-base-multilingual-cased-v1\")\n",
    "embedding_thanks = embedder_model.encode('thanks')\n",
    "embedding_thankyou = embedder_model.encode('thankyou')\n",
    "embedding_regards = embedder_model.encode('regards')"
   ]
  },
  {
   "cell_type": "code",
   "execution_count": 4,
   "id": "f470f066",
   "metadata": {},
   "outputs": [],
   "source": [
    "email = pd.read_csv(\"new_ds.csv\")"
   ]
  },
  {
   "cell_type": "code",
   "execution_count": 5,
   "id": "e099b1db",
   "metadata": {},
   "outputs": [],
   "source": [
    "list_line_number = []\n",
    "list_line = []\n",
    "list_word_count = []\n",
    "list_per = []\n",
    "list_org = []\n",
    "list_loc = []\n",
    "list_email = []\n",
    "#similarity_with_thanks = []\n",
    "#similarity_with_thankyou=[]\n",
    "#similarity_with_regards = []\n",
    "list_position_line = []\n",
    "list_special_char = []\n",
    "list_tel = []\n",
    "list_line_index = []\n",
    "start_pos = []\n",
    "end_pos = []\n",
    "list_email=[]\n",
    "list_salutation=[]"
   ]
  },
  {
   "cell_type": "code",
   "execution_count": 6,
   "id": "d4c080fd",
   "metadata": {},
   "outputs": [],
   "source": [
    "for index in range(email.shape[0]):\n",
    "    message = email.iloc[index]['message']\n",
    "    text = message.split('X-FileName: ')[1].lstrip('\\n')\n",
    "    text = text[text.find('\\n'):]\n",
    "    \n",
    "    lines = text.split('\\n')    \n",
    "    line_index = 0\n",
    "    \n",
    "    count_char = 0\n",
    "\n",
    "    for line in lines:\n",
    "        line = line.strip(\" \")\n",
    "        if len(line) == 0:\n",
    "            continue\n",
    "           \n",
    "        #print(line)\n",
    "        start_pos.append(count_char)\n",
    "        end_pos.append(count_char+len(line))\n",
    "        count_char = count_char + len(line)+1\n",
    "        \n",
    "        list_line_number.append(line_index)\n",
    "        line_index += 1\n",
    "        list_line.append(line)\n",
    "        \n",
    "        phone_regex = r'(\\+\\d{1,2}\\s)?\\(?\\d{3}\\)?[\\s./-]\\d{3}[\\s.-]\\d{4}'\n",
    "        matches = regex.search(phone_regex, line)\n",
    "        if matches is not None and matches[0] in line:\n",
    "            list_tel.append(1)\n",
    "        else:\n",
    "            list_tel.append(0)\n",
    "            \n",
    "        email_regex = r'[\\p{L}\\p{M}\\-\\d._]{1,}@[\\p{L}\\p{M}\\d\\-_]{1,}(\\.[\\p{L}\\p{M}]{1,}){1,}'\n",
    "        match = regex.search(email_regex, line)\n",
    "        if match is not None and match[0] in line:\n",
    "            list_email.append(1)\n",
    "        else:\n",
    "            list_email.append(0)\n",
    "            \n",
    "        sal_regex = r\"(?i)\\b(thank(?:s|you)|regards)\\b\"\n",
    "        if re.search(sal_regex, line, flags=re.IGNORECASE):\n",
    "            list_salutation.append(1)\n",
    "        else:\n",
    "            list_salutation.append(0)\n",
    "\n",
    "        \n",
    "        list_word_count.append(len(line.split()))\n",
    "        list_position_line.append(line_index)\n",
    "        \n",
    "        results= NER(line)\n",
    "   \n",
    "        found=0\n",
    "        for word in results.ents:\n",
    "            if word.text != \"\" and word.label_ in [\"PERSON\"]:\n",
    "                list_per.append(1)\n",
    "                found=1\n",
    "                break\n",
    "\n",
    "        if found==0:\n",
    "            list_per.append(0)\n",
    "            \n",
    "        found=0\n",
    "        for word in results.ents:\n",
    "            if word.text != \"\" and word.label_ in [\"LOC\"]:\n",
    "                list_loc.append(1)\n",
    "                found=1\n",
    "                break\n",
    "\n",
    "        if found==0:\n",
    "            list_loc.append(0)\n",
    "\n",
    "        found=0\n",
    "        for word in results.ents:\n",
    "            if word.text != \"\" and word.label_ in [\"ORG\"]:\n",
    "                list_org.append(1)\n",
    "                found=1\n",
    "                break\n",
    "\n",
    "        if found==0:\n",
    "            list_org.append(0)\n",
    "\n",
    "\n",
    "        #special_char_count = len(regex.findall(r\"[^\\p{L}0-9 .,\\n]\", line))\n",
    "        #list_special_char.append(special_char_count)\n",
    "       \n",
    "        #doc_line = nlp(line)\n",
    "        #embedding_line = embedder_model.encode(line)\n",
    "        #dist_thanks = distance.cosine(embedding_thanks, embedding_line)\n",
    "        #dist_thankyou = distance.cosine(embedding_thankyou, embedding_line)\n",
    "       # dist_regards = distance.cosine(embedding_regards, embedding_line)\n",
    "       # similarity_with_thanks.append(1 / (dist_thanks + 0.01))\n",
    "        #similarity_with_regards.append(1/(dist_regards+0.01))\n",
    "        #similarity_with_thankyou.append(1/(dist_thankyou+0.01))\n",
    "        \n",
    "    list_line_index.append(line_index)\n"
   ]
  },
  {
   "cell_type": "code",
   "execution_count": null,
   "id": "b84890d3",
   "metadata": {},
   "outputs": [],
   "source": [
    "ann = [0,1,1,1,0,0,0,1,1,1,0,1,1,1,1,0,0,0,0,1,1,1,1,1,0,1,1,1,0,0,1,1,0,0,0,0,0,0,0,0,0,0,1,1,0,0,0,0,0,0,0,0,\n",
    "       0,0,0,0,0,0,0,0,0,0,0,0,0,0,0,0,0,0,0,0,0,0,0,0,0,0,0,0,0,0,0,0,0,0,0,0,0,0,1,1,1,1,1,1,1,1,1,1,0,0,0,0,\n",
    "       0,1,1,1,0,0,0,0,0,0,0,0,0,1,1,1,0,0,0,0,0,0,0,0,0,0,0,0,0,0,0,0,0,0,0,0,0,0,0,0,0,0,0,0,0,0,1,0,0,0,0,0,\n",
    "       0,0,0,0,0,0,0,0,0,0,0,0,0,0,0,0,0,0,0,0,0,0,0,0,0,0,0,0,0,0,0,0,0,0,0,0,0,0,0,0,0,0,0,0,0,0,0,0,0,0,0,0,\n",
    "       0,0,0,0,0,0,0,0,0,0,1,0,0,0,0,0,0,0,0,0,0,0,0,0,0,0,0,0,0,0,0,0,0,0,0,0,0,0,0,0,0,0,0,0,1,0,0,0,0,0,0,0,\n",
    "       0,0,0,0,0,0,0,0,0,0,0,0,0,0,0,0,0,0,0,0,0,0,0,0,0,0,0,0,0,0,0,0,0,0,0,0,0,0,0,0,0,0,0,0,0,0,0,0,0,0,0,0,\n",
    "       0,0,0,0,0,0,0,0,1,0,0,0,0,0,0,1,1,1,0,0,1,1,1,0,0,0,0,0,0,0,0,0,0,0,0,0,0,0,0,0,0,0,0,1,0,0,0,0,1,1,1,0,\n",
    "       0,0,0,0,0,0,0,0,0,0,0,0,0,0,0,0,0,0,0,0,0,0,0,0,0,0,0,0,1,1,1,0,0,0,0,0,0,0,0]"
   ]
  },
  {
   "cell_type": "code",
   "execution_count": null,
   "id": "3909f2c9",
   "metadata": {},
   "outputs": [],
   "source": []
  },
  {
   "cell_type": "code",
   "execution_count": null,
   "id": "f92af2fb",
   "metadata": {
    "scrolled": false
   },
   "outputs": [],
   "source": [
    "df = pd.DataFrame(list(zip(list_line_number, list_line, list_per, list_org, list_loc, list_tel, list_email, list_word_count, list_position_line, list_salutation, ann, start_pos,end_pos)),\n",
    "                  columns =['line_number', 'line', 'PER', 'ORG', 'LOC', 'TEL', 'Email', 'word_count', 'position_line', 'salutation', 'is_sign','start','end'])\n",
    "\n",
    "#df['position_line'] = df['position_line']/df.iloc[-1]['position_line']\n",
    "\n",
    "first_i = 0\n",
    "sum_index = 0\n",
    "for index in range(len(list_line_index)):\n",
    "    #print(list_line_index[index])\n",
    "    if first_i==0:\n",
    "        df.loc[0:list_line_index[index],'position_line'] = df.loc[0:list_line_index[index],'position_line']/list_line_index[index]\n",
    "        first_i=1\n",
    "    else:\n",
    "        df.loc[sum_index:sum_index + list_line_index[index]-1,'position_line'] = df.loc[sum_index:sum_index+list_line_index[index]-1,'position_line']/list_line_index[index]\n",
    "    sum_index = sum_index + list_line_index[index]\n",
    "        \n",
    "df"
   ]
  },
  {
   "cell_type": "code",
   "execution_count": null,
   "id": "2d9fb7c9",
   "metadata": {},
   "outputs": [],
   "source": [
    "pd.set_option('display.max_rows', None)\n",
    "df"
   ]
  },
  {
   "cell_type": "code",
   "execution_count": null,
   "id": "a2f33b5b",
   "metadata": {
    "scrolled": true
   },
   "outputs": [],
   "source": [
    "df[df['LOC']>0]"
   ]
  },
  {
   "cell_type": "code",
   "execution_count": null,
   "id": "176c7ef3",
   "metadata": {
    "scrolled": false
   },
   "outputs": [],
   "source": [
    "# p he heatmap for correlation\n",
    "ax = sns.heatmap(df.corr(), annot=True, annot_kws={'size': 9})\n",
    "figure = plt.gcf()  # get current figure\n",
    "figure.set_size_inches(8, 8)\n",
    "\n"
   ]
  },
  {
   "cell_type": "code",
   "execution_count": null,
   "id": "5bf922ee",
   "metadata": {},
   "outputs": [],
   "source": [
    "df.drop(['is_sign'],axis=1,inplace=True)"
   ]
  },
  {
   "cell_type": "code",
   "execution_count": null,
   "id": "cc7ae918",
   "metadata": {
    "scrolled": true
   },
   "outputs": [],
   "source": [
    "# scale all features by using MinMaxScaler for all features\n",
    "# Select the columns to be scaled\n",
    "cols_to_scale = ['PER', 'ORG', 'LOC', 'TEL', 'Email', 'word_count', 'salutation', 'position_line']\n",
    "\n",
    "# Initialize the scaler\n",
    "scaler = MinMaxScaler()\n",
    "scaler.fit(df[cols_to_scale])\n",
    "df[cols_to_scale] = scaler.transform(df[cols_to_scale])\n",
    "\n",
    "df"
   ]
  },
  {
   "cell_type": "code",
   "execution_count": null,
   "id": "8e850e60",
   "metadata": {},
   "outputs": [],
   "source": [
    "x = df[['PER', 'ORG', 'position_line', 'salutation', 'TEL', 'Email']].to_numpy()\n",
    "#x = df[cols_to_scale].to_numpy()\n",
    "x = np.expand_dims(x, axis=0)\n",
    "x.shape"
   ]
  },
  {
   "cell_type": "code",
   "execution_count": null,
   "id": "d0483c64",
   "metadata": {},
   "outputs": [],
   "source": [
    "y = np.array(ann)\n",
    "y = np.expand_dims(y, axis=0)\n",
    "y.shape"
   ]
  },
  {
   "cell_type": "code",
   "execution_count": null,
   "id": "98861772",
   "metadata": {},
   "outputs": [],
   "source": [
    "model = LogisticRegression(solver='liblinear', random_state=0)\n",
    "model.fit(x[0], y[0])"
   ]
  },
  {
   "cell_type": "code",
   "execution_count": null,
   "id": "03e8e65e",
   "metadata": {},
   "outputs": [],
   "source": [
    "model.predict_proba(x[0])"
   ]
  },
  {
   "cell_type": "code",
   "execution_count": null,
   "id": "33b4d6be",
   "metadata": {},
   "outputs": [],
   "source": []
  },
  {
   "cell_type": "code",
   "execution_count": null,
   "id": "a7dd0992",
   "metadata": {},
   "outputs": [],
   "source": [
    "model = keras.Sequential()\n",
    "\n",
    "model.add(keras.layers.Bidirectional(layer=keras.layers.LSTM(units=10,return_sequences=True, dropout = 0.10)))\n",
    "#model.add(keras.layers.Bidirectional(layer=keras.layers.LSTM(5, return_sequences=True)))\n",
    "model.add(keras.layers.Dense(1, activation='sigmoid'))\n",
    "opt = keras.optimizers.Adam()\n",
    "model.compile(loss=\"binary_crossentropy\", optimizer=opt,metrics=[keras.metrics.Precision(name=\"precision\"),\n",
    "                                                 keras.metrics.Recall(name=\"recall\")])\n",
    "model.build(x.shape)\n",
    "model.summary()"
   ]
  },
  {
   "cell_type": "code",
   "execution_count": null,
   "id": "ebafae02",
   "metadata": {},
   "outputs": [],
   "source": [
    "history = model.fit(x,y,epochs=20, verbose=1)\n"
   ]
  },
  {
   "cell_type": "code",
   "execution_count": null,
   "id": "ba332376",
   "metadata": {},
   "outputs": [],
   "source": [
    "y_predict = model.predict(x)>0.45\n",
    "y_predict = np.multiply(y_predict, 1)\n",
    "y_predict = np.reshape(y_predict, (1,np.product(y_predict.shape)))[0]\n",
    "print(y_predict)"
   ]
  },
  {
   "cell_type": "code",
   "execution_count": null,
   "id": "7ccdfe74",
   "metadata": {},
   "outputs": [],
   "source": [
    "import numpy as np\n",
    "from sklearn.metrics import precision_recall_fscore_support\n",
    "\n",
    "# Calculate precision, recall, and F1 score for each class\n",
    "precision, recall, f1_score, _ = precision_recall_fscore_support(ann, y_predict, average=None)\n",
    "\n",
    "# Calculate weighted F1 score\n",
    "weighted_f1_score = f1_score.mean()\n",
    "\n",
    "# Print the results\n",
    "print('Precision:', precision)\n",
    "print('Recall:', recall)\n",
    "print('F1 score:', f1_score)\n",
    "print('Weighted F1 score:', weighted_f1_score)\n"
   ]
  },
  {
   "cell_type": "code",
   "execution_count": null,
   "id": "73df1676",
   "metadata": {},
   "outputs": [],
   "source": [
    "from sklearn.metrics import precision_score\n",
    "from sklearn.metrics import recall_score\n",
    "\n",
    "#calculating precision and reall\n",
    "precision = precision_score(ann, y_predict)\n",
    "recall = recall_score(ann, y_predict)\n",
    " \n",
    "print('Precision: ',precision)\n",
    "print('Recall: ',recall)"
   ]
  },
  {
   "cell_type": "code",
   "execution_count": null,
   "id": "af9c7c32",
   "metadata": {},
   "outputs": [],
   "source": []
  }
 ],
 "metadata": {
  "kernelspec": {
   "display_name": "Python 3 (ipykernel)",
   "language": "python",
   "name": "python3"
  },
  "language_info": {
   "codemirror_mode": {
    "name": "ipython",
    "version": 3
   },
   "file_extension": ".py",
   "mimetype": "text/x-python",
   "name": "python",
   "nbconvert_exporter": "python",
   "pygments_lexer": "ipython3",
   "version": "3.10.6"
  }
 },
 "nbformat": 4,
 "nbformat_minor": 5
}
