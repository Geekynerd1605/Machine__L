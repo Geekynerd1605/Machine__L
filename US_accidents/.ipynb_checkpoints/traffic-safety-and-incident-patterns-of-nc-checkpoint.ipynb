{
 "cells": [
  {
   "cell_type": "code",
   "execution_count": 1,
   "id": "9488d097",
   "metadata": {
    "execution": {
     "iopub.execute_input": "2021-12-03T04:29:15.750465Z",
     "iopub.status.busy": "2021-12-03T04:29:15.749836Z",
     "iopub.status.idle": "2021-12-03T04:29:16.649655Z",
     "shell.execute_reply": "2021-12-03T04:29:16.648882Z",
     "shell.execute_reply.started": "2021-12-03T04:24:16.947496Z"
    },
    "papermill": {
     "duration": 0.944671,
     "end_time": "2021-12-03T04:29:16.649846",
     "exception": false,
     "start_time": "2021-12-03T04:29:15.705175",
     "status": "completed"
    },
    "tags": []
   },
   "outputs": [],
   "source": [
    "import numpy as np \n",
    "import pandas as pd \n",
    "import json\n",
    "import matplotlib\n",
    "import matplotlib.pyplot as plt\n",
    "from matplotlib import cm\n",
    "from datetime import datetime\n",
    "import glob\n",
    "import seaborn as sns\n",
    "import re\n",
    "import os\n",
    "import io\n",
    "from scipy.stats import boxcox\n",
    "\n"
   ]
  },
  {
   "cell_type": "code",
   "execution_count": 2,
   "id": "a49e97a4",
   "metadata": {
    "execution": {
     "iopub.execute_input": "2021-12-03T04:29:16.722505Z",
     "iopub.status.busy": "2021-12-03T04:29:16.721811Z",
     "iopub.status.idle": "2021-12-03T04:29:36.316568Z",
     "shell.execute_reply": "2021-12-03T04:29:36.315765Z",
     "shell.execute_reply.started": "2021-12-03T04:24:16.955407Z"
    },
    "papermill": {
     "duration": 19.632392,
     "end_time": "2021-12-03T04:29:36.316735",
     "exception": false,
     "start_time": "2021-12-03T04:29:16.684343",
     "status": "completed"
    },
    "tags": []
   },
   "outputs": [],
   "source": [
    "df = pd.read_csv('dataset.csv')\n",
    "#print(\"The shape of data is:\",(df.shape))\n",
    "#display(df.head(3))"
   ]
  },
  {
   "cell_type": "code",
   "execution_count": 3,
   "id": "73cb0de7",
   "metadata": {
    "execution": {
     "iopub.execute_input": "2021-12-03T04:29:36.392180Z",
     "iopub.status.busy": "2021-12-03T04:29:36.391456Z",
     "iopub.status.idle": "2021-12-03T04:29:36.395075Z",
     "shell.execute_reply": "2021-12-03T04:29:36.395657Z",
     "shell.execute_reply.started": "2021-12-03T04:24:30.601566Z"
    },
    "papermill": {
     "duration": 0.045957,
     "end_time": "2021-12-03T04:29:36.395829",
     "exception": false,
     "start_time": "2021-12-03T04:29:36.349872",
     "status": "completed"
    },
    "tags": []
   },
   "outputs": [],
   "source": [
    "State_grp_df=df.groupby(['State'])\n",
    "#df=State_grp_df.get_group('NC')\n",
    "#display(df.head(3))"
   ]
  },
  {
   "cell_type": "code",
   "execution_count": null,
   "id": "c42c43fd",
   "metadata": {
    "execution": {
     "iopub.execute_input": "2021-12-03T04:29:36.465364Z",
     "iopub.status.busy": "2021-12-03T04:29:36.464748Z",
     "iopub.status.idle": "2021-12-03T04:30:04.215562Z",
     "shell.execute_reply": "2021-12-03T04:30:04.214754Z",
     "shell.execute_reply.started": "2021-12-03T04:24:30.741531Z"
    },
    "papermill": {
     "duration": 27.786587,
     "end_time": "2021-12-03T04:30:04.215885",
     "exception": false,
     "start_time": "2021-12-03T04:29:36.429298",
     "status": "completed"
    },
    "tags": []
   },
   "outputs": [],
   "source": [
    "# fix datetime type\n",
    "df['Start_Time'] = pd.to_datetime(df['Start_Time'])\n",
    "df['End_Time'] = pd.to_datetime(df['End_Time'])\n",
    "df['Weather_Timestamp'] = pd.to_datetime(df['Weather_Timestamp'])\n",
    "\n",
    "# calculate duration as the difference between end time and start time in minute\n",
    "df['Duration'] = df.End_Time - df.Start_Time \n",
    "df['Duration'] = df['Duration'].apply(lambda x:round(x.total_seconds() / 60) )\n",
    "print(\"The overall mean duration is: \", (round(df['Duration'].mean(),3)), 'min')\n",
    "display(df.head(3))\n"
   ]
  },
  {
   "cell_type": "code",
   "execution_count": null,
   "id": "b09ccedb",
   "metadata": {
    "execution": {
     "iopub.execute_input": "2021-12-03T04:30:04.516674Z",
     "iopub.status.busy": "2021-12-03T04:30:04.515935Z",
     "iopub.status.idle": "2021-12-03T04:30:07.647973Z",
     "shell.execute_reply": "2021-12-03T04:30:07.648505Z",
     "shell.execute_reply.started": "2021-12-03T04:24:45.875414Z"
    },
    "papermill": {
     "duration": 3.396242,
     "end_time": "2021-12-03T04:30:07.648703",
     "exception": false,
     "start_time": "2021-12-03T04:30:04.252461",
     "status": "completed"
    },
    "tags": []
   },
   "outputs": [],
   "source": [
    "df.loc[df['Wind_Direction']=='Calm','Wind_Direction'] = 'CALM'\n",
    "df.loc[(df['Wind_Direction']=='West')|(df['Wind_Direction']=='WSW')|(df['Wind_Direction']=='WNW'),'Wind_Direction'] = 'W'\n",
    "df.loc[(df['Wind_Direction']=='South')|(df['Wind_Direction']=='SSW')|(df['Wind_Direction']=='SSE'),'Wind_Direction'] = 'S'\n",
    "df.loc[(df['Wind_Direction']=='North')|(df['Wind_Direction']=='NNW')|(df['Wind_Direction']=='NNE'),'Wind_Direction'] = 'N'\n",
    "df.loc[(df['Wind_Direction']=='East')|(df['Wind_Direction']=='ESE')|(df['Wind_Direction']=='ENE'),'Wind_Direction'] = 'E'\n",
    "df.loc[df['Wind_Direction']=='Variable','Wind_Direction'] = 'VAR'\n",
    "print(\"Wind Direction after simplification: \", df['Wind_Direction'].unique())\n",
    "display(df.head(3))"
   ]
  },
  {
   "cell_type": "code",
   "execution_count": 6,
   "id": "cd7350cb",
   "metadata": {
    "execution": {
     "iopub.execute_input": "2021-12-03T04:30:07.723000Z",
     "iopub.status.busy": "2021-12-03T04:30:07.722007Z",
     "iopub.status.idle": "2021-12-03T04:30:08.056372Z",
     "shell.execute_reply": "2021-12-03T04:30:08.056897Z",
     "shell.execute_reply.started": "2021-12-03T04:24:47.386567Z"
    },
    "papermill": {
     "duration": 0.373188,
     "end_time": "2021-12-03T04:30:08.057065",
     "exception": false,
     "start_time": "2021-12-03T04:30:07.683877",
     "status": "completed"
    },
    "tags": []
   },
   "outputs": [
    {
     "name": "stdout",
     "output_type": "stream",
     "text": [
      "Weather Conditions:  ['', 'Clear', 'Cloudy', 'Drifting Snow', 'Drizzle', 'Dust', 'Dust Whirls', 'Dust Whirls Nearby', 'Dust Whirlwinds', 'Fair', 'Fog', 'Funnel Cloud', 'Hail', 'Haze', 'Heavy ', 'Heavy Drizzle', 'Heavy Ice Pellets', 'Heavy Rain', 'Heavy Rain Shower', 'Heavy Rain Showers', 'Heavy Snow', 'Heavy T-Storm', 'Heavy Thunderstorms', 'Ice Pellets', 'Light ', 'Light Drizzle', 'Light Fog', 'Light Haze', 'Light Ice Pellets', 'Light Rain', 'Light Rain Shower', 'Light Rain Showers', 'Light Sleet', 'Light Snow', 'Light Snow Shower', 'Light Snow Showers', 'Light Thunderstorms', 'Low Drifting Snow', 'Mist', 'N/A Precipitation', 'Overcast', 'Partial Fog', 'Patches of Fog', 'Rain', 'Rain Shower', 'Rain Showers', 'Sand', 'Scattered Clouds', 'Shallow Fog', 'Showers in the Vicinity', 'Sleet', 'Small Hail', 'Smoke', 'Snow', 'Snow Grains', 'Squalls', 'T-Storm', 'Thunder', 'Thunder in the Vicinity', 'Thunderstorm', 'Thunderstorms', 'Tornado', 'Volcanic Ash', 'Widespread Dust', 'Windy', 'Wintry Mix']\n"
     ]
    },
    {
     "data": {
      "text/html": [
       "<div>\n",
       "<style scoped>\n",
       "    .dataframe tbody tr th:only-of-type {\n",
       "        vertical-align: middle;\n",
       "    }\n",
       "\n",
       "    .dataframe tbody tr th {\n",
       "        vertical-align: top;\n",
       "    }\n",
       "\n",
       "    .dataframe thead th {\n",
       "        text-align: right;\n",
       "    }\n",
       "</style>\n",
       "<table border=\"1\" class=\"dataframe\">\n",
       "  <thead>\n",
       "    <tr style=\"text-align: right;\">\n",
       "      <th></th>\n",
       "      <th>ID</th>\n",
       "      <th>Severity</th>\n",
       "      <th>Start_Time</th>\n",
       "      <th>End_Time</th>\n",
       "      <th>Start_Lat</th>\n",
       "      <th>Start_Lng</th>\n",
       "      <th>End_Lat</th>\n",
       "      <th>End_Lng</th>\n",
       "      <th>Distance(mi)</th>\n",
       "      <th>Description</th>\n",
       "      <th>...</th>\n",
       "      <th>Station</th>\n",
       "      <th>Stop</th>\n",
       "      <th>Traffic_Calming</th>\n",
       "      <th>Traffic_Signal</th>\n",
       "      <th>Turning_Loop</th>\n",
       "      <th>Sunrise_Sunset</th>\n",
       "      <th>Civil_Twilight</th>\n",
       "      <th>Nautical_Twilight</th>\n",
       "      <th>Astronomical_Twilight</th>\n",
       "      <th>Duration</th>\n",
       "    </tr>\n",
       "  </thead>\n",
       "  <tbody>\n",
       "    <tr>\n",
       "      <th>0</th>\n",
       "      <td>A-2716600</td>\n",
       "      <td>3</td>\n",
       "      <td>2016-02-08 00:37:08</td>\n",
       "      <td>2016-02-08 06:37:08</td>\n",
       "      <td>40.10891</td>\n",
       "      <td>-83.09286</td>\n",
       "      <td>40.11206</td>\n",
       "      <td>-83.03187</td>\n",
       "      <td>3.230</td>\n",
       "      <td>Between Sawmill Rd/Exit 20 and OH-315/Olentang...</td>\n",
       "      <td>...</td>\n",
       "      <td>False</td>\n",
       "      <td>False</td>\n",
       "      <td>False</td>\n",
       "      <td>False</td>\n",
       "      <td>False</td>\n",
       "      <td>Night</td>\n",
       "      <td>Night</td>\n",
       "      <td>Night</td>\n",
       "      <td>Night</td>\n",
       "      <td>360</td>\n",
       "    </tr>\n",
       "    <tr>\n",
       "      <th>1</th>\n",
       "      <td>A-2716601</td>\n",
       "      <td>2</td>\n",
       "      <td>2016-02-08 05:56:20</td>\n",
       "      <td>2016-02-08 11:56:20</td>\n",
       "      <td>39.86542</td>\n",
       "      <td>-84.06280</td>\n",
       "      <td>39.86501</td>\n",
       "      <td>-84.04873</td>\n",
       "      <td>0.747</td>\n",
       "      <td>At OH-4/OH-235/Exit 41 - Accident.</td>\n",
       "      <td>...</td>\n",
       "      <td>False</td>\n",
       "      <td>False</td>\n",
       "      <td>False</td>\n",
       "      <td>False</td>\n",
       "      <td>False</td>\n",
       "      <td>Night</td>\n",
       "      <td>Night</td>\n",
       "      <td>Night</td>\n",
       "      <td>Night</td>\n",
       "      <td>360</td>\n",
       "    </tr>\n",
       "    <tr>\n",
       "      <th>2</th>\n",
       "      <td>A-2716602</td>\n",
       "      <td>2</td>\n",
       "      <td>2016-02-08 06:15:39</td>\n",
       "      <td>2016-02-08 12:15:39</td>\n",
       "      <td>39.10266</td>\n",
       "      <td>-84.52468</td>\n",
       "      <td>39.10209</td>\n",
       "      <td>-84.52396</td>\n",
       "      <td>0.055</td>\n",
       "      <td>At I-71/US-50/Exit 1 - Accident.</td>\n",
       "      <td>...</td>\n",
       "      <td>False</td>\n",
       "      <td>False</td>\n",
       "      <td>False</td>\n",
       "      <td>False</td>\n",
       "      <td>False</td>\n",
       "      <td>Night</td>\n",
       "      <td>Night</td>\n",
       "      <td>Night</td>\n",
       "      <td>Day</td>\n",
       "      <td>360</td>\n",
       "    </tr>\n",
       "  </tbody>\n",
       "</table>\n",
       "<p>3 rows × 48 columns</p>\n",
       "</div>"
      ],
      "text/plain": [
       "          ID  Severity          Start_Time            End_Time  Start_Lat  \\\n",
       "0  A-2716600         3 2016-02-08 00:37:08 2016-02-08 06:37:08   40.10891   \n",
       "1  A-2716601         2 2016-02-08 05:56:20 2016-02-08 11:56:20   39.86542   \n",
       "2  A-2716602         2 2016-02-08 06:15:39 2016-02-08 12:15:39   39.10266   \n",
       "\n",
       "   Start_Lng   End_Lat   End_Lng  Distance(mi)  \\\n",
       "0  -83.09286  40.11206 -83.03187         3.230   \n",
       "1  -84.06280  39.86501 -84.04873         0.747   \n",
       "2  -84.52468  39.10209 -84.52396         0.055   \n",
       "\n",
       "                                         Description  ...  Station   Stop  \\\n",
       "0  Between Sawmill Rd/Exit 20 and OH-315/Olentang...  ...    False  False   \n",
       "1                 At OH-4/OH-235/Exit 41 - Accident.  ...    False  False   \n",
       "2                   At I-71/US-50/Exit 1 - Accident.  ...    False  False   \n",
       "\n",
       "  Traffic_Calming Traffic_Signal Turning_Loop Sunrise_Sunset Civil_Twilight  \\\n",
       "0           False          False        False          Night          Night   \n",
       "1           False          False        False          Night          Night   \n",
       "2           False          False        False          Night          Night   \n",
       "\n",
       "  Nautical_Twilight Astronomical_Twilight Duration  \n",
       "0             Night                 Night      360  \n",
       "1             Night                 Night      360  \n",
       "2             Night                   Day      360  \n",
       "\n",
       "[3 rows x 48 columns]"
      ]
     },
     "metadata": {},
     "output_type": "display_data"
    }
   ],
   "source": [
    "# show distinctive weather conditions \n",
    "weather ='!'.join(df['Weather_Condition'].dropna().unique().tolist())\n",
    "weather = np.unique(np.array(re.split(\n",
    "    \"!|\\s/\\s|\\sand\\s|\\swith\\s|Partly\\s|Mostly\\s|Blowing\\s|Freezing\\s\", weather))).tolist()\n",
    "print(\"Weather Conditions: \", weather)\n",
    "display(df.head(3))"
   ]
  },
  {
   "cell_type": "code",
   "execution_count": 7,
   "id": "ec21dbe4",
   "metadata": {
    "execution": {
     "iopub.execute_input": "2021-12-03T04:30:08.139130Z",
     "iopub.status.busy": "2021-12-03T04:30:08.138157Z",
     "iopub.status.idle": "2021-12-03T04:30:23.526341Z",
     "shell.execute_reply": "2021-12-03T04:30:23.526837Z",
     "shell.execute_reply.started": "2021-12-03T04:24:47.598978Z"
    },
    "papermill": {
     "duration": 15.433468,
     "end_time": "2021-12-03T04:30:23.527013",
     "exception": false,
     "start_time": "2021-12-03T04:30:08.093545",
     "status": "completed"
    },
    "tags": []
   },
   "outputs": [
    {
     "data": {
      "text/html": [
       "<div>\n",
       "<style scoped>\n",
       "    .dataframe tbody tr th:only-of-type {\n",
       "        vertical-align: middle;\n",
       "    }\n",
       "\n",
       "    .dataframe tbody tr th {\n",
       "        vertical-align: top;\n",
       "    }\n",
       "\n",
       "    .dataframe thead th {\n",
       "        text-align: right;\n",
       "    }\n",
       "</style>\n",
       "<table border=\"1\" class=\"dataframe\">\n",
       "  <thead>\n",
       "    <tr style=\"text-align: right;\">\n",
       "      <th></th>\n",
       "      <th>ID</th>\n",
       "      <th>Severity</th>\n",
       "      <th>Start_Time</th>\n",
       "      <th>End_Time</th>\n",
       "      <th>Start_Lat</th>\n",
       "      <th>Start_Lng</th>\n",
       "      <th>End_Lat</th>\n",
       "      <th>End_Lng</th>\n",
       "      <th>Distance(mi)</th>\n",
       "      <th>Description</th>\n",
       "      <th>...</th>\n",
       "      <th>Nautical_Twilight</th>\n",
       "      <th>Astronomical_Twilight</th>\n",
       "      <th>Duration</th>\n",
       "      <th>Clear</th>\n",
       "      <th>Cloud</th>\n",
       "      <th>Rain</th>\n",
       "      <th>Heavy_Rain</th>\n",
       "      <th>Snow</th>\n",
       "      <th>Heavy_Snow</th>\n",
       "      <th>Fog</th>\n",
       "    </tr>\n",
       "  </thead>\n",
       "  <tbody>\n",
       "    <tr>\n",
       "      <th>0</th>\n",
       "      <td>A-2716600</td>\n",
       "      <td>3</td>\n",
       "      <td>2016-02-08 00:37:08</td>\n",
       "      <td>2016-02-08 06:37:08</td>\n",
       "      <td>40.10891</td>\n",
       "      <td>-83.09286</td>\n",
       "      <td>40.11206</td>\n",
       "      <td>-83.03187</td>\n",
       "      <td>3.230</td>\n",
       "      <td>Between Sawmill Rd/Exit 20 and OH-315/Olentang...</td>\n",
       "      <td>...</td>\n",
       "      <td>Night</td>\n",
       "      <td>Night</td>\n",
       "      <td>360</td>\n",
       "      <td>False</td>\n",
       "      <td>False</td>\n",
       "      <td>True</td>\n",
       "      <td>False</td>\n",
       "      <td>False</td>\n",
       "      <td>False</td>\n",
       "      <td>False</td>\n",
       "    </tr>\n",
       "    <tr>\n",
       "      <th>1</th>\n",
       "      <td>A-2716601</td>\n",
       "      <td>2</td>\n",
       "      <td>2016-02-08 05:56:20</td>\n",
       "      <td>2016-02-08 11:56:20</td>\n",
       "      <td>39.86542</td>\n",
       "      <td>-84.06280</td>\n",
       "      <td>39.86501</td>\n",
       "      <td>-84.04873</td>\n",
       "      <td>0.747</td>\n",
       "      <td>At OH-4/OH-235/Exit 41 - Accident.</td>\n",
       "      <td>...</td>\n",
       "      <td>Night</td>\n",
       "      <td>Night</td>\n",
       "      <td>360</td>\n",
       "      <td>False</td>\n",
       "      <td>False</td>\n",
       "      <td>True</td>\n",
       "      <td>False</td>\n",
       "      <td>False</td>\n",
       "      <td>False</td>\n",
       "      <td>False</td>\n",
       "    </tr>\n",
       "    <tr>\n",
       "      <th>2</th>\n",
       "      <td>A-2716602</td>\n",
       "      <td>2</td>\n",
       "      <td>2016-02-08 06:15:39</td>\n",
       "      <td>2016-02-08 12:15:39</td>\n",
       "      <td>39.10266</td>\n",
       "      <td>-84.52468</td>\n",
       "      <td>39.10209</td>\n",
       "      <td>-84.52396</td>\n",
       "      <td>0.055</td>\n",
       "      <td>At I-71/US-50/Exit 1 - Accident.</td>\n",
       "      <td>...</td>\n",
       "      <td>Night</td>\n",
       "      <td>Day</td>\n",
       "      <td>360</td>\n",
       "      <td>False</td>\n",
       "      <td>True</td>\n",
       "      <td>False</td>\n",
       "      <td>False</td>\n",
       "      <td>False</td>\n",
       "      <td>False</td>\n",
       "      <td>False</td>\n",
       "    </tr>\n",
       "  </tbody>\n",
       "</table>\n",
       "<p>3 rows × 54 columns</p>\n",
       "</div>"
      ],
      "text/plain": [
       "          ID  Severity          Start_Time            End_Time  Start_Lat  \\\n",
       "0  A-2716600         3 2016-02-08 00:37:08 2016-02-08 06:37:08   40.10891   \n",
       "1  A-2716601         2 2016-02-08 05:56:20 2016-02-08 11:56:20   39.86542   \n",
       "2  A-2716602         2 2016-02-08 06:15:39 2016-02-08 12:15:39   39.10266   \n",
       "\n",
       "   Start_Lng   End_Lat   End_Lng  Distance(mi)  \\\n",
       "0  -83.09286  40.11206 -83.03187         3.230   \n",
       "1  -84.06280  39.86501 -84.04873         0.747   \n",
       "2  -84.52468  39.10209 -84.52396         0.055   \n",
       "\n",
       "                                         Description  ...  Nautical_Twilight  \\\n",
       "0  Between Sawmill Rd/Exit 20 and OH-315/Olentang...  ...              Night   \n",
       "1                 At OH-4/OH-235/Exit 41 - Accident.  ...              Night   \n",
       "2                   At I-71/US-50/Exit 1 - Accident.  ...              Night   \n",
       "\n",
       "  Astronomical_Twilight Duration  Clear  Cloud   Rain Heavy_Rain   Snow  \\\n",
       "0                 Night      360  False  False   True      False  False   \n",
       "1                 Night      360  False  False   True      False  False   \n",
       "2                   Day      360  False   True  False      False  False   \n",
       "\n",
       "  Heavy_Snow    Fog  \n",
       "0      False  False  \n",
       "1      False  False  \n",
       "2      False  False  \n",
       "\n",
       "[3 rows x 54 columns]"
      ]
     },
     "metadata": {},
     "output_type": "display_data"
    }
   ],
   "source": [
    "df['Clear'] = np.where(df['Weather_Condition'].str.contains('Clear', case=False, na = False), True, False)\n",
    "df['Cloud'] = np.where(df['Weather_Condition'].str.contains('Cloud|Overcast', case=False, na = False), True, False)\n",
    "df['Rain'] = np.where(df['Weather_Condition'].str.contains('Rain|storm', case=False, na = False), True, False)\n",
    "df['Heavy_Rain'] = np.where(df['Weather_Condition'].str.contains('Heavy Rain|Rain Shower|Heavy T-Storm|Heavy Thunderstorms', case=False, na = False), True, False)\n",
    "df['Snow'] = np.where(df['Weather_Condition'].str.contains('Snow|Sleet|Ice', case=False, na = False), True, False)\n",
    "df['Heavy_Snow'] = np.where(df['Weather_Condition'].str.contains('Heavy Snow|Heavy Sleet|Heavy Ice Pellets|Snow Showers|Squalls', case=False, na = False), True, False)\n",
    "df['Fog'] = np.where(df['Weather_Condition'].str.contains('Fog', case=False, na = False), True, False)\n",
    "# Assign NA to created weather features where 'Weather_Condition' is null.\n",
    "weather = ['Clear','Cloud','Rain','Heavy_Rain','Snow','Heavy_Snow','Fog']\n",
    "for i in weather:\n",
    "    df.loc[df['Weather_Condition'].isnull(),i] = df.loc[df['Weather_Condition'].isnull(),'Weather_Condition']\n",
    "    df[i] = df[i].astype('bool')\n",
    "\n",
    "df.loc[:,['Weather_Condition'] + weather]\n",
    "\n",
    "df = df.drop(['Weather_Condition'], axis=1)\n",
    "display(df.head(3))"
   ]
  },
  {
   "cell_type": "code",
   "execution_count": 8,
   "id": "2912d8be",
   "metadata": {
    "execution": {
     "iopub.execute_input": "2021-12-03T04:30:23.614394Z",
     "iopub.status.busy": "2021-12-03T04:30:23.613542Z",
     "iopub.status.idle": "2021-12-03T04:30:26.591033Z",
     "shell.execute_reply": "2021-12-03T04:30:26.591485Z",
     "shell.execute_reply.started": "2021-12-03T04:24:55.998520Z"
    },
    "papermill": {
     "duration": 3.027611,
     "end_time": "2021-12-03T04:30:26.591669",
     "exception": false,
     "start_time": "2021-12-03T04:30:23.564058",
     "status": "completed"
    },
    "tags": []
   },
   "outputs": [
    {
     "data": {
      "text/html": [
       "<div>\n",
       "<style scoped>\n",
       "    .dataframe tbody tr th:only-of-type {\n",
       "        vertical-align: middle;\n",
       "    }\n",
       "\n",
       "    .dataframe tbody tr th {\n",
       "        vertical-align: top;\n",
       "    }\n",
       "\n",
       "    .dataframe thead th {\n",
       "        text-align: right;\n",
       "    }\n",
       "</style>\n",
       "<table border=\"1\" class=\"dataframe\">\n",
       "  <thead>\n",
       "    <tr style=\"text-align: right;\">\n",
       "      <th></th>\n",
       "      <th>ID</th>\n",
       "      <th>Severity</th>\n",
       "      <th>Start_Time</th>\n",
       "      <th>End_Time</th>\n",
       "      <th>Start_Lat</th>\n",
       "      <th>Start_Lng</th>\n",
       "      <th>End_Lat</th>\n",
       "      <th>End_Lng</th>\n",
       "      <th>Distance(mi)</th>\n",
       "      <th>Description</th>\n",
       "      <th>...</th>\n",
       "      <th>Heavy_Rain</th>\n",
       "      <th>Snow</th>\n",
       "      <th>Heavy_Snow</th>\n",
       "      <th>Fog</th>\n",
       "      <th>Year</th>\n",
       "      <th>Month</th>\n",
       "      <th>Weekday</th>\n",
       "      <th>Day</th>\n",
       "      <th>Hour</th>\n",
       "      <th>Minute</th>\n",
       "    </tr>\n",
       "  </thead>\n",
       "  <tbody>\n",
       "    <tr>\n",
       "      <th>0</th>\n",
       "      <td>A-2716600</td>\n",
       "      <td>3</td>\n",
       "      <td>2016-02-08 00:37:08</td>\n",
       "      <td>2016-02-08 06:37:08</td>\n",
       "      <td>40.10891</td>\n",
       "      <td>-83.09286</td>\n",
       "      <td>40.11206</td>\n",
       "      <td>-83.03187</td>\n",
       "      <td>3.230</td>\n",
       "      <td>Between Sawmill Rd/Exit 20 and OH-315/Olentang...</td>\n",
       "      <td>...</td>\n",
       "      <td>False</td>\n",
       "      <td>False</td>\n",
       "      <td>False</td>\n",
       "      <td>False</td>\n",
       "      <td>2016</td>\n",
       "      <td>2</td>\n",
       "      <td>0</td>\n",
       "      <td>39</td>\n",
       "      <td>0</td>\n",
       "      <td>37.0</td>\n",
       "    </tr>\n",
       "    <tr>\n",
       "      <th>1</th>\n",
       "      <td>A-2716601</td>\n",
       "      <td>2</td>\n",
       "      <td>2016-02-08 05:56:20</td>\n",
       "      <td>2016-02-08 11:56:20</td>\n",
       "      <td>39.86542</td>\n",
       "      <td>-84.06280</td>\n",
       "      <td>39.86501</td>\n",
       "      <td>-84.04873</td>\n",
       "      <td>0.747</td>\n",
       "      <td>At OH-4/OH-235/Exit 41 - Accident.</td>\n",
       "      <td>...</td>\n",
       "      <td>False</td>\n",
       "      <td>False</td>\n",
       "      <td>False</td>\n",
       "      <td>False</td>\n",
       "      <td>2016</td>\n",
       "      <td>2</td>\n",
       "      <td>0</td>\n",
       "      <td>39</td>\n",
       "      <td>5</td>\n",
       "      <td>356.0</td>\n",
       "    </tr>\n",
       "    <tr>\n",
       "      <th>2</th>\n",
       "      <td>A-2716602</td>\n",
       "      <td>2</td>\n",
       "      <td>2016-02-08 06:15:39</td>\n",
       "      <td>2016-02-08 12:15:39</td>\n",
       "      <td>39.10266</td>\n",
       "      <td>-84.52468</td>\n",
       "      <td>39.10209</td>\n",
       "      <td>-84.52396</td>\n",
       "      <td>0.055</td>\n",
       "      <td>At I-71/US-50/Exit 1 - Accident.</td>\n",
       "      <td>...</td>\n",
       "      <td>False</td>\n",
       "      <td>False</td>\n",
       "      <td>False</td>\n",
       "      <td>False</td>\n",
       "      <td>2016</td>\n",
       "      <td>2</td>\n",
       "      <td>0</td>\n",
       "      <td>39</td>\n",
       "      <td>6</td>\n",
       "      <td>375.0</td>\n",
       "    </tr>\n",
       "  </tbody>\n",
       "</table>\n",
       "<p>3 rows × 60 columns</p>\n",
       "</div>"
      ],
      "text/plain": [
       "          ID  Severity          Start_Time            End_Time  Start_Lat  \\\n",
       "0  A-2716600         3 2016-02-08 00:37:08 2016-02-08 06:37:08   40.10891   \n",
       "1  A-2716601         2 2016-02-08 05:56:20 2016-02-08 11:56:20   39.86542   \n",
       "2  A-2716602         2 2016-02-08 06:15:39 2016-02-08 12:15:39   39.10266   \n",
       "\n",
       "   Start_Lng   End_Lat   End_Lng  Distance(mi)  \\\n",
       "0  -83.09286  40.11206 -83.03187         3.230   \n",
       "1  -84.06280  39.86501 -84.04873         0.747   \n",
       "2  -84.52468  39.10209 -84.52396         0.055   \n",
       "\n",
       "                                         Description  ...  Heavy_Rain   Snow  \\\n",
       "0  Between Sawmill Rd/Exit 20 and OH-315/Olentang...  ...       False  False   \n",
       "1                 At OH-4/OH-235/Exit 41 - Accident.  ...       False  False   \n",
       "2                   At I-71/US-50/Exit 1 - Accident.  ...       False  False   \n",
       "\n",
       "  Heavy_Snow    Fog  Year Month Weekday Day Hour Minute  \n",
       "0      False  False  2016     2       0  39    0   37.0  \n",
       "1      False  False  2016     2       0  39    5  356.0  \n",
       "2      False  False  2016     2       0  39    6  375.0  \n",
       "\n",
       "[3 rows x 60 columns]"
      ]
     },
     "metadata": {},
     "output_type": "display_data"
    }
   ],
   "source": [
    "df['Year'] = df['Start_Time'].dt.year\n",
    "\n",
    "nmonth = df['Start_Time'].dt.month\n",
    "df['Month'] = nmonth\n",
    "\n",
    "df['Weekday']= df['Start_Time'].dt.weekday\n",
    "\n",
    "days_each_month = np.cumsum(np.array([0,31,28,31,30,31,30,31,31,30,31,30,31]))\n",
    "nday = [days_each_month[arg-1] for arg in nmonth.values]\n",
    "nday = nday + df[\"Start_Time\"].dt.day.values\n",
    "df['Day'] = nday\n",
    "\n",
    "df['Hour'] = df['Start_Time'].dt.hour\n",
    "\n",
    "df['Minute']=df['Hour']*60.0+df[\"Start_Time\"].dt.minute\n",
    "display(df.head(3))\n",
    "\n"
   ]
  },
  {
   "cell_type": "code",
   "execution_count": 9,
   "id": "89e3585b",
   "metadata": {
    "execution": {
     "iopub.execute_input": "2021-12-03T04:30:26.670673Z",
     "iopub.status.busy": "2021-12-03T04:30:26.669676Z",
     "iopub.status.idle": "2021-12-03T04:30:26.683795Z",
     "shell.execute_reply": "2021-12-03T04:30:26.684346Z",
     "shell.execute_reply.started": "2021-12-03T04:24:57.884858Z"
    },
    "papermill": {
     "duration": 0.055489,
     "end_time": "2021-12-03T04:30:26.684511",
     "exception": false,
     "start_time": "2021-12-03T04:30:26.629022",
     "status": "completed"
    },
    "tags": []
   },
   "outputs": [
    {
     "data": {
      "text/html": [
       "<div>\n",
       "<style scoped>\n",
       "    .dataframe tbody tr th:only-of-type {\n",
       "        vertical-align: middle;\n",
       "    }\n",
       "\n",
       "    .dataframe tbody tr th {\n",
       "        vertical-align: top;\n",
       "    }\n",
       "\n",
       "    .dataframe thead th {\n",
       "        text-align: right;\n",
       "    }\n",
       "</style>\n",
       "<table border=\"1\" class=\"dataframe\">\n",
       "  <thead>\n",
       "    <tr style=\"text-align: right;\">\n",
       "      <th></th>\n",
       "      <th>Start_Time</th>\n",
       "      <th>Year</th>\n",
       "      <th>Month</th>\n",
       "      <th>Weekday</th>\n",
       "      <th>Day</th>\n",
       "      <th>Hour</th>\n",
       "      <th>Minute</th>\n",
       "    </tr>\n",
       "  </thead>\n",
       "  <tbody>\n",
       "    <tr>\n",
       "      <th>0</th>\n",
       "      <td>2016-02-08 00:37:08</td>\n",
       "      <td>2016</td>\n",
       "      <td>2</td>\n",
       "      <td>0</td>\n",
       "      <td>39</td>\n",
       "      <td>0</td>\n",
       "      <td>37.0</td>\n",
       "    </tr>\n",
       "    <tr>\n",
       "      <th>1</th>\n",
       "      <td>2016-02-08 05:56:20</td>\n",
       "      <td>2016</td>\n",
       "      <td>2</td>\n",
       "      <td>0</td>\n",
       "      <td>39</td>\n",
       "      <td>5</td>\n",
       "      <td>356.0</td>\n",
       "    </tr>\n",
       "    <tr>\n",
       "      <th>2</th>\n",
       "      <td>2016-02-08 06:15:39</td>\n",
       "      <td>2016</td>\n",
       "      <td>2</td>\n",
       "      <td>0</td>\n",
       "      <td>39</td>\n",
       "      <td>6</td>\n",
       "      <td>375.0</td>\n",
       "    </tr>\n",
       "    <tr>\n",
       "      <th>3</th>\n",
       "      <td>2016-02-08 06:15:39</td>\n",
       "      <td>2016</td>\n",
       "      <td>2</td>\n",
       "      <td>0</td>\n",
       "      <td>39</td>\n",
       "      <td>6</td>\n",
       "      <td>375.0</td>\n",
       "    </tr>\n",
       "    <tr>\n",
       "      <th>4</th>\n",
       "      <td>2016-02-08 06:51:45</td>\n",
       "      <td>2016</td>\n",
       "      <td>2</td>\n",
       "      <td>0</td>\n",
       "      <td>39</td>\n",
       "      <td>6</td>\n",
       "      <td>411.0</td>\n",
       "    </tr>\n",
       "    <tr>\n",
       "      <th>5</th>\n",
       "      <td>2016-02-08 07:53:43</td>\n",
       "      <td>2016</td>\n",
       "      <td>2</td>\n",
       "      <td>0</td>\n",
       "      <td>39</td>\n",
       "      <td>7</td>\n",
       "      <td>473.0</td>\n",
       "    </tr>\n",
       "    <tr>\n",
       "      <th>6</th>\n",
       "      <td>2016-02-08 08:16:57</td>\n",
       "      <td>2016</td>\n",
       "      <td>2</td>\n",
       "      <td>0</td>\n",
       "      <td>39</td>\n",
       "      <td>8</td>\n",
       "      <td>496.0</td>\n",
       "    </tr>\n",
       "  </tbody>\n",
       "</table>\n",
       "</div>"
      ],
      "text/plain": [
       "           Start_Time  Year  Month  Weekday  Day  Hour  Minute\n",
       "0 2016-02-08 00:37:08  2016      2        0   39     0    37.0\n",
       "1 2016-02-08 05:56:20  2016      2        0   39     5   356.0\n",
       "2 2016-02-08 06:15:39  2016      2        0   39     6   375.0\n",
       "3 2016-02-08 06:15:39  2016      2        0   39     6   375.0\n",
       "4 2016-02-08 06:51:45  2016      2        0   39     6   411.0\n",
       "5 2016-02-08 07:53:43  2016      2        0   39     7   473.0\n",
       "6 2016-02-08 08:16:57  2016      2        0   39     8   496.0"
      ]
     },
     "execution_count": 9,
     "metadata": {},
     "output_type": "execute_result"
    }
   ],
   "source": [
    "df.loc[:6,['Start_Time', 'Year', 'Month', 'Weekday', 'Day', 'Hour', 'Minute']]"
   ]
  },
  {
   "cell_type": "code",
   "execution_count": 10,
   "id": "2c2218da",
   "metadata": {
    "execution": {
     "iopub.execute_input": "2021-12-03T04:30:26.766962Z",
     "iopub.status.busy": "2021-12-03T04:30:26.766296Z",
     "iopub.status.idle": "2021-12-03T04:30:27.483150Z",
     "shell.execute_reply": "2021-12-03T04:30:27.482535Z",
     "shell.execute_reply.started": "2021-12-03T04:24:57.900106Z"
    },
    "papermill": {
     "duration": 0.760477,
     "end_time": "2021-12-03T04:30:27.483291",
     "exception": false,
     "start_time": "2021-12-03T04:30:26.722814",
     "status": "completed"
    },
    "tags": []
   },
   "outputs": [],
   "source": [
    "df = df.drop(['ID','Description','Distance(mi)', 'End_Time', 'Duration', \n",
    "              'End_Lat', 'End_Lng', 'Country','Turning_Loop',\"Weather_Timestamp\"], axis=1)"
   ]
  },
  {
   "cell_type": "code",
   "execution_count": 11,
   "id": "453f14ec",
   "metadata": {
    "execution": {
     "iopub.execute_input": "2021-12-03T04:30:27.563462Z",
     "iopub.status.busy": "2021-12-03T04:30:27.562833Z",
     "iopub.status.idle": "2021-12-03T04:30:29.802625Z",
     "shell.execute_reply": "2021-12-03T04:30:29.803132Z",
     "shell.execute_reply.started": "2021-12-03T04:24:58.602534Z"
    },
    "papermill": {
     "duration": 2.281818,
     "end_time": "2021-12-03T04:30:29.803302",
     "exception": false,
     "start_time": "2021-12-03T04:30:27.521484",
     "status": "completed"
    },
    "tags": []
   },
   "outputs": [
    {
     "data": {
      "text/html": [
       "<div>\n",
       "<style scoped>\n",
       "    .dataframe tbody tr th:only-of-type {\n",
       "        vertical-align: middle;\n",
       "    }\n",
       "\n",
       "    .dataframe tbody tr th {\n",
       "        vertical-align: top;\n",
       "    }\n",
       "\n",
       "    .dataframe thead th {\n",
       "        text-align: right;\n",
       "    }\n",
       "</style>\n",
       "<table border=\"1\" class=\"dataframe\">\n",
       "  <thead>\n",
       "    <tr style=\"text-align: right;\">\n",
       "      <th></th>\n",
       "      <th>Feature</th>\n",
       "      <th>Missing_Percent(%)</th>\n",
       "    </tr>\n",
       "  </thead>\n",
       "  <tbody>\n",
       "    <tr>\n",
       "      <th>4</th>\n",
       "      <td>Number</td>\n",
       "      <td>69.000715</td>\n",
       "    </tr>\n",
       "    <tr>\n",
       "      <th>7</th>\n",
       "      <td>City</td>\n",
       "      <td>0.005475</td>\n",
       "    </tr>\n",
       "    <tr>\n",
       "      <th>10</th>\n",
       "      <td>Zipcode</td>\n",
       "      <td>0.061673</td>\n",
       "    </tr>\n",
       "    <tr>\n",
       "      <th>11</th>\n",
       "      <td>Timezone</td>\n",
       "      <td>0.151841</td>\n",
       "    </tr>\n",
       "    <tr>\n",
       "      <th>12</th>\n",
       "      <td>Airport_Code</td>\n",
       "      <td>0.280199</td>\n",
       "    </tr>\n",
       "    <tr>\n",
       "      <th>13</th>\n",
       "      <td>Temperature(F)</td>\n",
       "      <td>2.838469</td>\n",
       "    </tr>\n",
       "    <tr>\n",
       "      <th>14</th>\n",
       "      <td>Wind_Chill(F)</td>\n",
       "      <td>29.637007</td>\n",
       "    </tr>\n",
       "    <tr>\n",
       "      <th>15</th>\n",
       "      <td>Humidity(%)</td>\n",
       "      <td>3.001786</td>\n",
       "    </tr>\n",
       "    <tr>\n",
       "      <th>16</th>\n",
       "      <td>Pressure(in)</td>\n",
       "      <td>2.392643</td>\n",
       "    </tr>\n",
       "    <tr>\n",
       "      <th>17</th>\n",
       "      <td>Visibility(mi)</td>\n",
       "      <td>2.916170</td>\n",
       "    </tr>\n",
       "    <tr>\n",
       "      <th>18</th>\n",
       "      <td>Wind_Direction</td>\n",
       "      <td>2.760965</td>\n",
       "    </tr>\n",
       "    <tr>\n",
       "      <th>19</th>\n",
       "      <td>Wind_Speed(mph)</td>\n",
       "      <td>8.499773</td>\n",
       "    </tr>\n",
       "    <tr>\n",
       "      <th>20</th>\n",
       "      <td>Precipitation(in)</td>\n",
       "      <td>33.675953</td>\n",
       "    </tr>\n",
       "    <tr>\n",
       "      <th>33</th>\n",
       "      <td>Sunrise_Sunset</td>\n",
       "      <td>0.005475</td>\n",
       "    </tr>\n",
       "    <tr>\n",
       "      <th>34</th>\n",
       "      <td>Civil_Twilight</td>\n",
       "      <td>0.005475</td>\n",
       "    </tr>\n",
       "    <tr>\n",
       "      <th>35</th>\n",
       "      <td>Nautical_Twilight</td>\n",
       "      <td>0.005475</td>\n",
       "    </tr>\n",
       "    <tr>\n",
       "      <th>36</th>\n",
       "      <td>Astronomical_Twilight</td>\n",
       "      <td>0.005475</td>\n",
       "    </tr>\n",
       "  </tbody>\n",
       "</table>\n",
       "</div>"
      ],
      "text/plain": [
       "                  Feature  Missing_Percent(%)\n",
       "4                  Number           69.000715\n",
       "7                    City            0.005475\n",
       "10                Zipcode            0.061673\n",
       "11               Timezone            0.151841\n",
       "12           Airport_Code            0.280199\n",
       "13         Temperature(F)            2.838469\n",
       "14          Wind_Chill(F)           29.637007\n",
       "15            Humidity(%)            3.001786\n",
       "16           Pressure(in)            2.392643\n",
       "17         Visibility(mi)            2.916170\n",
       "18         Wind_Direction            2.760965\n",
       "19        Wind_Speed(mph)            8.499773\n",
       "20      Precipitation(in)           33.675953\n",
       "33         Sunrise_Sunset            0.005475\n",
       "34         Civil_Twilight            0.005475\n",
       "35      Nautical_Twilight            0.005475\n",
       "36  Astronomical_Twilight            0.005475"
      ]
     },
     "execution_count": 11,
     "metadata": {},
     "output_type": "execute_result"
    }
   ],
   "source": [
    "missing = pd.DataFrame(df.isnull().sum()).reset_index()\n",
    "missing.columns = ['Feature', 'Missing_Percent(%)']\n",
    "missing['Missing_Percent(%)'] = missing['Missing_Percent(%)'].apply(lambda x: x / df.shape[0] * 100)\n",
    "missing.loc[missing['Missing_Percent(%)']>0,:]"
   ]
  },
  {
   "cell_type": "code",
   "execution_count": 12,
   "id": "462de69e",
   "metadata": {
    "execution": {
     "iopub.execute_input": "2021-12-03T04:30:29.887260Z",
     "iopub.status.busy": "2021-12-03T04:30:29.886617Z",
     "iopub.status.idle": "2021-12-03T04:30:29.933790Z",
     "shell.execute_reply": "2021-12-03T04:30:29.933255Z",
     "shell.execute_reply.started": "2021-12-03T04:24:59.626238Z"
    },
    "papermill": {
     "duration": 0.091802,
     "end_time": "2021-12-03T04:30:29.933929",
     "exception": false,
     "start_time": "2021-12-03T04:30:29.842127",
     "status": "completed"
    },
    "tags": []
   },
   "outputs": [
    {
     "data": {
      "text/html": [
       "<div>\n",
       "<style scoped>\n",
       "    .dataframe tbody tr th:only-of-type {\n",
       "        vertical-align: middle;\n",
       "    }\n",
       "\n",
       "    .dataframe tbody tr th {\n",
       "        vertical-align: top;\n",
       "    }\n",
       "\n",
       "    .dataframe thead th {\n",
       "        text-align: right;\n",
       "    }\n",
       "</style>\n",
       "<table border=\"1\" class=\"dataframe\">\n",
       "  <thead>\n",
       "    <tr style=\"text-align: right;\">\n",
       "      <th></th>\n",
       "      <th>Precipitation(in)</th>\n",
       "      <th>Precipitation_NA</th>\n",
       "    </tr>\n",
       "  </thead>\n",
       "  <tbody>\n",
       "    <tr>\n",
       "      <th>0</th>\n",
       "      <td>0.00</td>\n",
       "      <td>0</td>\n",
       "    </tr>\n",
       "    <tr>\n",
       "      <th>1</th>\n",
       "      <td>0.02</td>\n",
       "      <td>0</td>\n",
       "    </tr>\n",
       "    <tr>\n",
       "      <th>2</th>\n",
       "      <td>0.02</td>\n",
       "      <td>0</td>\n",
       "    </tr>\n",
       "    <tr>\n",
       "      <th>3</th>\n",
       "      <td>0.02</td>\n",
       "      <td>0</td>\n",
       "    </tr>\n",
       "    <tr>\n",
       "      <th>4</th>\n",
       "      <td>0.00</td>\n",
       "      <td>1</td>\n",
       "    </tr>\n",
       "    <tr>\n",
       "      <th>5</th>\n",
       "      <td>0.01</td>\n",
       "      <td>0</td>\n",
       "    </tr>\n",
       "  </tbody>\n",
       "</table>\n",
       "</div>"
      ],
      "text/plain": [
       "   Precipitation(in)  Precipitation_NA\n",
       "0               0.00                 0\n",
       "1               0.02                 0\n",
       "2               0.02                 0\n",
       "3               0.02                 0\n",
       "4               0.00                 1\n",
       "5               0.01                 0"
      ]
     },
     "execution_count": 12,
     "metadata": {},
     "output_type": "execute_result"
    }
   ],
   "source": [
    "#Add a new feature for missing values in 'Precipitation(in)' and replace missing values with median.\n",
    "df['Precipitation_NA'] = 0\n",
    "df.loc[df['Precipitation(in)'].isnull(),'Precipitation_NA'] = 1\n",
    "df['Precipitation(in)'] = df['Precipitation(in)'].fillna(df['Precipitation(in)'].median())\n",
    "df.loc[:5,['Precipitation(in)','Precipitation_NA']]\n"
   ]
  },
  {
   "cell_type": "code",
   "execution_count": 13,
   "id": "f12cff8d",
   "metadata": {
    "execution": {
     "iopub.execute_input": "2021-12-03T04:30:30.018604Z",
     "iopub.status.busy": "2021-12-03T04:30:30.017948Z",
     "iopub.status.idle": "2021-12-03T04:30:31.813535Z",
     "shell.execute_reply": "2021-12-03T04:30:31.812780Z",
     "shell.execute_reply.started": "2021-12-03T04:24:59.678085Z"
    },
    "papermill": {
     "duration": 1.840668,
     "end_time": "2021-12-03T04:30:31.813750",
     "exception": false,
     "start_time": "2021-12-03T04:30:29.973082",
     "status": "completed"
    },
    "tags": []
   },
   "outputs": [],
   "source": [
    "df = df.dropna(subset=['City','Zipcode','Airport_Code',\n",
    "                       'Sunrise_Sunset','Civil_Twilight','Nautical_Twilight','Astronomical_Twilight'])"
   ]
  },
  {
   "cell_type": "code",
   "execution_count": 14,
   "id": "5feacf85",
   "metadata": {
    "execution": {
     "iopub.execute_input": "2021-12-03T04:30:31.930290Z",
     "iopub.status.busy": "2021-12-03T04:30:31.929584Z",
     "iopub.status.idle": "2021-12-03T04:30:54.180833Z",
     "shell.execute_reply": "2021-12-03T04:30:54.180106Z",
     "shell.execute_reply.started": "2021-12-03T04:25:00.759205Z"
    },
    "papermill": {
     "duration": 22.327022,
     "end_time": "2021-12-03T04:30:54.181017",
     "exception": false,
     "start_time": "2021-12-03T04:30:31.853995",
     "status": "completed"
    },
    "tags": []
   },
   "outputs": [
    {
     "name": "stdout",
     "output_type": "stream",
     "text": [
      "The number of remaining missing values: \n",
      "Temperature(F) : 3896\n",
      "Humidity(%) : 3919\n",
      "Pressure(in) : 3882\n",
      "Visibility(mi) : 10137\n",
      "Wind_Speed(mph) : 10426\n"
     ]
    }
   ],
   "source": [
    "# group data by 'Airport_Code' and 'Start_Month' then fill NAs with median value\n",
    "Weather_data=['Temperature(F)','Humidity(%)','Pressure(in)','Visibility(mi)','Wind_Speed(mph)']\n",
    "print(\"The number of remaining missing values: \")\n",
    "for i in Weather_data:\n",
    "  df[i] = df.groupby(['Airport_Code','Month'])[i].apply(lambda x: x.fillna(x.median()))\n",
    "  print( i + \" : \" + df[i].isnull().sum().astype(str))\n",
    "df = df.dropna(subset=Weather_data)"
   ]
  },
  {
   "cell_type": "code",
   "execution_count": 15,
   "id": "8a128db2",
   "metadata": {
    "execution": {
     "iopub.execute_input": "2021-12-03T04:30:54.300066Z",
     "iopub.status.busy": "2021-12-03T04:30:54.299096Z",
     "iopub.status.idle": "2021-12-03T04:31:39.216814Z",
     "shell.execute_reply": "2021-12-03T04:31:39.217438Z",
     "shell.execute_reply.started": "2021-12-03T04:25:21.121158Z"
    },
    "papermill": {
     "duration": 44.995565,
     "end_time": "2021-12-03T04:31:39.217673",
     "exception": false,
     "start_time": "2021-12-03T04:30:54.222108",
     "status": "completed"
    },
    "tags": []
   },
   "outputs": [
    {
     "name": "stdout",
     "output_type": "stream",
     "text": [
      "Count of missing values that will be dropped: \n",
      "Wind_Direction : 13317\n",
      "Clear : 0\n",
      "Cloud : 0\n",
      "Rain : 0\n",
      "Heavy_Rain : 0\n",
      "Snow : 0\n",
      "Heavy_Snow : 0\n",
      "Fog : 0\n"
     ]
    }
   ],
   "source": [
    "# group data by 'Airport_Code' and 'Start_Month' then fill NAs with majority value\n",
    "from collections import Counter\n",
    "weather_cat = ['Wind_Direction'] + weather\n",
    "print(\"Count of missing values that will be dropped: \")\n",
    "for i in weather_cat:\n",
    "  df[i] = df.groupby(['Airport_Code','Month'])[i].apply(lambda x: x.fillna(Counter(x).most_common()[0][0]) if all(x.isnull())==False else x)\n",
    "  print(i + \" : \" + df[i].isnull().sum().astype(str))\n",
    "\n",
    "# drop na\n",
    "df = df.dropna(subset=weather_cat)"
   ]
  },
  {
   "cell_type": "code",
   "execution_count": 16,
   "id": "7b45991a",
   "metadata": {
    "execution": {
     "iopub.execute_input": "2021-12-03T04:31:39.311395Z",
     "iopub.status.busy": "2021-12-03T04:31:39.310778Z",
     "iopub.status.idle": "2021-12-03T04:31:39.625728Z",
     "shell.execute_reply": "2021-12-03T04:31:39.626308Z",
     "shell.execute_reply.started": "2021-12-03T04:26:02.160243Z"
    },
    "papermill": {
     "duration": 0.362588,
     "end_time": "2021-12-03T04:31:39.626478",
     "exception": false,
     "start_time": "2021-12-03T04:31:39.263890",
     "status": "completed"
    },
    "tags": []
   },
   "outputs": [],
   "source": [
    "df = df.drop(['Number','Wind_Chill(F)'], axis=1)\n"
   ]
  },
  {
   "cell_type": "markdown",
   "id": "ccd5f78f",
   "metadata": {
    "papermill": {
     "duration": 0.044577,
     "end_time": "2021-12-03T04:31:39.715452",
     "exception": false,
     "start_time": "2021-12-03T04:31:39.670875",
     "status": "completed"
    },
    "tags": []
   },
   "source": [
    "pull the North Carolina cases"
   ]
  },
  {
   "cell_type": "code",
   "execution_count": 17,
   "id": "ee2a5961",
   "metadata": {
    "execution": {
     "iopub.execute_input": "2021-12-03T04:31:40.206462Z",
     "iopub.status.busy": "2021-12-03T04:31:40.205748Z",
     "iopub.status.idle": "2021-12-03T04:31:40.387368Z",
     "shell.execute_reply": "2021-12-03T04:31:40.386868Z",
     "shell.execute_reply.started": "2021-12-03T04:26:02.480745Z"
    },
    "papermill": {
     "duration": 0.628235,
     "end_time": "2021-12-03T04:31:40.387516",
     "exception": false,
     "start_time": "2021-12-03T04:31:39.759281",
     "status": "completed"
    },
    "tags": []
   },
   "outputs": [
    {
     "data": {
      "text/html": [
       "<div>\n",
       "<style scoped>\n",
       "    .dataframe tbody tr th:only-of-type {\n",
       "        vertical-align: middle;\n",
       "    }\n",
       "\n",
       "    .dataframe tbody tr th {\n",
       "        vertical-align: top;\n",
       "    }\n",
       "\n",
       "    .dataframe thead th {\n",
       "        text-align: right;\n",
       "    }\n",
       "</style>\n",
       "<table border=\"1\" class=\"dataframe\">\n",
       "  <thead>\n",
       "    <tr style=\"text-align: right;\">\n",
       "      <th></th>\n",
       "      <th>Severity</th>\n",
       "      <th>Start_Time</th>\n",
       "      <th>Start_Lat</th>\n",
       "      <th>Start_Lng</th>\n",
       "      <th>Street</th>\n",
       "      <th>Side</th>\n",
       "      <th>City</th>\n",
       "      <th>County</th>\n",
       "      <th>State</th>\n",
       "      <th>Zipcode</th>\n",
       "      <th>...</th>\n",
       "      <th>Snow</th>\n",
       "      <th>Heavy_Snow</th>\n",
       "      <th>Fog</th>\n",
       "      <th>Year</th>\n",
       "      <th>Month</th>\n",
       "      <th>Weekday</th>\n",
       "      <th>Day</th>\n",
       "      <th>Hour</th>\n",
       "      <th>Minute</th>\n",
       "      <th>Precipitation_NA</th>\n",
       "    </tr>\n",
       "  </thead>\n",
       "  <tbody>\n",
       "    <tr>\n",
       "      <th>32553</th>\n",
       "      <td>3</td>\n",
       "      <td>2016-11-30 15:20:52</td>\n",
       "      <td>35.754390</td>\n",
       "      <td>-78.640210</td>\n",
       "      <td>US-64 E</td>\n",
       "      <td>R</td>\n",
       "      <td>Raleigh</td>\n",
       "      <td>Wake</td>\n",
       "      <td>NC</td>\n",
       "      <td>27603</td>\n",
       "      <td>...</td>\n",
       "      <td>False</td>\n",
       "      <td>False</td>\n",
       "      <td>False</td>\n",
       "      <td>2016</td>\n",
       "      <td>11</td>\n",
       "      <td>2</td>\n",
       "      <td>334</td>\n",
       "      <td>15</td>\n",
       "      <td>920.0</td>\n",
       "      <td>1</td>\n",
       "    </tr>\n",
       "    <tr>\n",
       "      <th>32559</th>\n",
       "      <td>2</td>\n",
       "      <td>2016-11-30 16:19:52</td>\n",
       "      <td>35.595783</td>\n",
       "      <td>-82.410179</td>\n",
       "      <td>I-40 W</td>\n",
       "      <td>R</td>\n",
       "      <td>Swannanoa</td>\n",
       "      <td>Buncombe</td>\n",
       "      <td>NC</td>\n",
       "      <td>28778</td>\n",
       "      <td>...</td>\n",
       "      <td>False</td>\n",
       "      <td>False</td>\n",
       "      <td>False</td>\n",
       "      <td>2016</td>\n",
       "      <td>11</td>\n",
       "      <td>2</td>\n",
       "      <td>334</td>\n",
       "      <td>16</td>\n",
       "      <td>979.0</td>\n",
       "      <td>0</td>\n",
       "    </tr>\n",
       "    <tr>\n",
       "      <th>32608</th>\n",
       "      <td>3</td>\n",
       "      <td>2016-11-30 18:02:07</td>\n",
       "      <td>35.252960</td>\n",
       "      <td>-80.891340</td>\n",
       "      <td>I-85 N</td>\n",
       "      <td>R</td>\n",
       "      <td>Charlotte</td>\n",
       "      <td>Mecklenburg</td>\n",
       "      <td>NC</td>\n",
       "      <td>28208</td>\n",
       "      <td>...</td>\n",
       "      <td>False</td>\n",
       "      <td>False</td>\n",
       "      <td>False</td>\n",
       "      <td>2016</td>\n",
       "      <td>11</td>\n",
       "      <td>2</td>\n",
       "      <td>334</td>\n",
       "      <td>18</td>\n",
       "      <td>1082.0</td>\n",
       "      <td>0</td>\n",
       "    </tr>\n",
       "  </tbody>\n",
       "</table>\n",
       "<p>3 rows × 49 columns</p>\n",
       "</div>"
      ],
      "text/plain": [
       "       Severity          Start_Time  Start_Lat  Start_Lng   Street Side  \\\n",
       "32553         3 2016-11-30 15:20:52  35.754390 -78.640210  US-64 E    R   \n",
       "32559         2 2016-11-30 16:19:52  35.595783 -82.410179   I-40 W    R   \n",
       "32608         3 2016-11-30 18:02:07  35.252960 -80.891340   I-85 N    R   \n",
       "\n",
       "            City       County State Zipcode  ...   Snow Heavy_Snow    Fog  \\\n",
       "32553    Raleigh         Wake    NC   27603  ...  False      False  False   \n",
       "32559  Swannanoa     Buncombe    NC   28778  ...  False      False  False   \n",
       "32608  Charlotte  Mecklenburg    NC   28208  ...  False      False  False   \n",
       "\n",
       "       Year  Month  Weekday  Day  Hour  Minute  Precipitation_NA  \n",
       "32553  2016     11        2  334    15   920.0                 1  \n",
       "32559  2016     11        2  334    16   979.0                 0  \n",
       "32608  2016     11        2  334    18  1082.0                 0  \n",
       "\n",
       "[3 rows x 49 columns]"
      ]
     },
     "metadata": {},
     "output_type": "display_data"
    }
   ],
   "source": [
    "State_grp_df=df.groupby(['State'])\n",
    "df=State_grp_df.get_group('NC').copy(deep=True)\n",
    "display(df.head(3))"
   ]
  },
  {
   "cell_type": "code",
   "execution_count": null,
   "id": "3600daa1",
   "metadata": {
    "papermill": {
     "duration": 0.044577,
     "end_time": "2021-12-03T04:31:40.565282",
     "exception": false,
     "start_time": "2021-12-03T04:31:40.520705",
     "status": "completed"
    },
    "tags": []
   },
   "outputs": [],
   "source": []
  },
  {
   "cell_type": "code",
   "execution_count": 18,
   "id": "bdcbce02",
   "metadata": {
    "execution": {
     "iopub.execute_input": "2021-12-03T04:31:40.662866Z",
     "iopub.status.busy": "2021-12-03T04:31:40.662185Z",
     "iopub.status.idle": "2021-12-03T04:31:41.367713Z",
     "shell.execute_reply": "2021-12-03T04:31:41.368221Z",
     "shell.execute_reply.started": "2021-12-03T04:26:03.021995Z"
    },
    "papermill": {
     "duration": 0.758544,
     "end_time": "2021-12-03T04:31:41.368390",
     "exception": false,
     "start_time": "2021-12-03T04:31:40.609846",
     "status": "completed"
    },
    "tags": []
   },
   "outputs": [
    {
     "name": "stderr",
     "output_type": "stream",
     "text": [
      "/opt/conda/lib/python3.7/site-packages/seaborn/_decorators.py:43: FutureWarning: Pass the following variable as a keyword arg: x. From version 0.12, the only valid positional argument will be `data`, and passing other arguments without an explicit keyword will result in an error or misinterpretation.\n",
      "  FutureWarning\n"
     ]
    },
    {
     "data": {
      "image/png": "[encoded data removed]",
      "text/plain": [
       "<Figure size 1080x360 with 3 Axes>"
      ]
     },
     "metadata": {
      "needs_background": "light"
     },
     "output_type": "display_data"
    }
   ],
   "source": [
    "f,ax=plt.subplots(1,3,figsize=(15,5))\n",
    "df['Severity'].value_counts().plot.pie(explode=[0,0.1,0.1,0.1],autopct='%1.1f%%',ax=ax[0],shadow=True)\n",
    "ax[0].set_title('Percentage Severity Distribution')\n",
    "#ax[0].set_ylabel('Count')\n",
    "sns.countplot('Severity',data=df,ax=ax[1],order=df['Severity'].value_counts().index)\n",
    "ax[1].set_title('Count of Severity')\n",
    "df.Severity.value_counts(normalize=True).sort_index().plot.bar(ax=ax[2])\n",
    "ax[2].set_title('Severity Percentage')\n",
    "ax[2].set_xlabel('Severity')\n",
    "ax[2].set_ylabel('Percentage')\n",
    "#plt.grid()\n",
    "#plt.title('Severity')\n",
    "#plt.xlabel('Severity')\n",
    "#plt.ylabel('Fraction');\n",
    "plt.tight_layout()\n",
    "plt.show()"
   ]
  },
  {
   "cell_type": "code",
   "execution_count": 19,
   "id": "ff5f04f6",
   "metadata": {
    "execution": {
     "iopub.execute_input": "2021-12-03T04:31:41.467024Z",
     "iopub.status.busy": "2021-12-03T04:31:41.465987Z",
     "iopub.status.idle": "2021-12-03T04:31:41.490102Z",
     "shell.execute_reply": "2021-12-03T04:31:41.490578Z",
     "shell.execute_reply.started": "2021-12-03T04:26:03.647856Z"
    },
    "papermill": {
     "duration": 0.075951,
     "end_time": "2021-12-03T04:31:41.490770",
     "exception": false,
     "start_time": "2021-12-03T04:31:41.414819",
     "status": "completed"
    },
    "tags": []
   },
   "outputs": [],
   "source": [
    "df.loc[(df['Severity'] == 3)|(df['Severity'] == 4),'Severity'] = 'Severe'\n",
    "df.loc[(df['Severity'] == 1)|(df['Severity'] == 2),'Severity'] = 'Not Severe'"
   ]
  },
  {
   "cell_type": "code",
   "execution_count": 20,
   "id": "fe7469d4",
   "metadata": {
    "execution": {
     "iopub.execute_input": "2021-12-03T04:31:41.701572Z",
     "iopub.status.busy": "2021-12-03T04:31:41.669693Z",
     "iopub.status.idle": "2021-12-03T04:31:42.147390Z",
     "shell.execute_reply": "2021-12-03T04:31:42.146844Z",
     "shell.execute_reply.started": "2021-12-03T04:26:03.668881Z"
    },
    "papermill": {
     "duration": 0.610427,
     "end_time": "2021-12-03T04:31:42.147526",
     "exception": false,
     "start_time": "2021-12-03T04:31:41.537099",
     "status": "completed"
    },
    "tags": []
   },
   "outputs": [
    {
     "name": "stderr",
     "output_type": "stream",
     "text": [
      "/opt/conda/lib/python3.7/site-packages/seaborn/_decorators.py:43: FutureWarning: Pass the following variable as a keyword arg: x. From version 0.12, the only valid positional argument will be `data`, and passing other arguments without an explicit keyword will result in an error or misinterpretation.\n",
      "  FutureWarning\n"
     ]
    },
    {
     "data": {
      "image/png": "[encoded data removed]",
      "text/plain": [
       "<Figure size 1080x360 with 3 Axes>"
      ]
     },
     "metadata": {
      "needs_background": "light"
     },
     "output_type": "display_data"
    }
   ],
   "source": [
    "f,ax=plt.subplots(1,3,figsize=(15,5))\n",
    "df['Severity'].value_counts().plot.pie(explode=[0,0.1],autopct='%1.1f%%',ax=ax[0],shadow=True)\n",
    "ax[0].set_title('Percentage Severity Distribution')\n",
    "#ax[0].set_ylabel('Count')\n",
    "sns.countplot('Severity',data=df,ax=ax[1],order=df['Severity'].value_counts().index)\n",
    "ax[1].set_title('Count of Severity')\n",
    "df.Severity.value_counts(normalize=True).sort_index().plot.bar(ax=ax[2])\n",
    "ax[2].set_title('Severity Percentage')\n",
    "ax[2].set_xlabel('Severity')\n",
    "ax[2].set_ylabel('Percentage')\n",
    "#plt.grid()\n",
    "#plt.title('Severity')\n",
    "#plt.xlabel('Severity')\n",
    "#plt.ylabel('Fraction');\n",
    "plt.tight_layout()\n",
    "plt.show()"
   ]
  },
  {
   "cell_type": "code",
   "execution_count": 21,
   "id": "17fc1d01",
   "metadata": {
    "execution": {
     "iopub.execute_input": "2021-12-03T04:31:42.247347Z",
     "iopub.status.busy": "2021-12-03T04:31:42.246714Z",
     "iopub.status.idle": "2021-12-03T04:31:42.260560Z",
     "shell.execute_reply": "2021-12-03T04:31:42.259903Z",
     "shell.execute_reply.started": "2021-12-03T04:26:04.188544Z"
    },
    "papermill": {
     "duration": 0.064802,
     "end_time": "2021-12-03T04:31:42.260762",
     "exception": false,
     "start_time": "2021-12-03T04:31:42.195960",
     "status": "completed"
    },
    "tags": []
   },
   "outputs": [
    {
     "data": {
      "text/plain": [
       "Not Severe    43033\n",
       "Severe         6603\n",
       "Name: Severity, dtype: int64"
      ]
     },
     "execution_count": 21,
     "metadata": {},
     "output_type": "execute_result"
    }
   ],
   "source": [
    "#regroup the levels of severity into level 4 & 3versus level 1 & 2.\n",
    "\n",
    "df.Severity.value_counts()"
   ]
  },
  {
   "cell_type": "markdown",
   "id": "0124fea3",
   "metadata": {
    "papermill": {
     "duration": 0.049396,
     "end_time": "2021-12-03T04:31:42.360146",
     "exception": false,
     "start_time": "2021-12-03T04:31:42.310750",
     "status": "completed"
    },
    "tags": []
   },
   "source": [
    "To address the unbalanced issue, the combination of over- and under-sampling will be used since the dataset is large enough. level 4 will be randomly oversampled to 13,000 and other levels will be randomly undersampled to 13,000 ."
   ]
  },
  {
   "cell_type": "code",
   "execution_count": 22,
   "id": "74f313d0",
   "metadata": {
    "execution": {
     "iopub.execute_input": "2021-12-03T04:31:42.473530Z",
     "iopub.status.busy": "2021-12-03T04:31:42.472829Z",
     "iopub.status.idle": "2021-12-03T04:31:42.551471Z",
     "shell.execute_reply": "2021-12-03T04:31:42.550942Z",
     "shell.execute_reply.started": "2021-12-03T04:26:04.201469Z"
    },
    "papermill": {
     "duration": 0.141938,
     "end_time": "2021-12-03T04:31:42.551688",
     "exception": false,
     "start_time": "2021-12-03T04:31:42.409750",
     "status": "completed"
    },
    "tags": []
   },
   "outputs": [
    {
     "name": "stdout",
     "output_type": "stream",
     "text": [
      "resampled data: Severe        13000\n",
      "Not Severe    13000\n",
      "Name: Severity, dtype: int64\n"
     ]
    }
   ],
   "source": [
    "def resample(dat, col, n):\n",
    "    return pd.concat([dat[dat[col]=='Severe'].sample(n, replace = True),\n",
    "                   dat[dat[col]=='Not Severe'].sample(n)], axis=0)\n",
    "\n",
    "df_bl = resample(df, 'Severity', 13000)\n",
    "print('resampled data:', df_bl.Severity.value_counts())"
   ]
  },
  {
   "cell_type": "code",
   "execution_count": 23,
   "id": "1f2a5034",
   "metadata": {
    "execution": {
     "iopub.execute_input": "2021-12-03T04:31:42.712796Z",
     "iopub.status.busy": "2021-12-03T04:31:42.694126Z",
     "iopub.status.idle": "2021-12-03T04:31:43.004211Z",
     "shell.execute_reply": "2021-12-03T04:31:43.004749Z",
     "shell.execute_reply.started": "2021-12-03T04:26:04.299278Z"
    },
    "papermill": {
     "duration": 0.403532,
     "end_time": "2021-12-03T04:31:43.004928",
     "exception": false,
     "start_time": "2021-12-03T04:31:42.601396",
     "status": "completed"
    },
    "tags": []
   },
   "outputs": [
    {
     "data": {
      "image/png": "[encoded data removed]",
      "text/plain": [
       "<Figure size 432x288 with 1 Axes>"
      ]
     },
     "metadata": {
      "needs_background": "light"
     },
     "output_type": "display_data"
    }
   ],
   "source": [
    "df_bl.Year = df_bl.Year.astype(str)\n",
    "sns.countplot(x='Year', hue='Severity', data=df_bl ,palette=\"Set2\", order=['2016', '2017', '2018', '2019', '2020'])\n",
    "plt.title('Count of Accidents in NC by Year (resampled data)', size=15, y=1.05)\n",
    "plt.show()"
   ]
  },
  {
   "cell_type": "code",
   "execution_count": 24,
   "id": "d7a49358",
   "metadata": {
    "execution": {
     "iopub.execute_input": "2021-12-03T04:31:43.109775Z",
     "iopub.status.busy": "2021-12-03T04:31:43.109112Z",
     "iopub.status.idle": "2021-12-03T04:31:43.111094Z",
     "shell.execute_reply": "2021-12-03T04:31:43.111568Z",
     "shell.execute_reply.started": "2021-12-03T04:26:04.555648Z"
    },
    "papermill": {
     "duration": 0.056881,
     "end_time": "2021-12-03T04:31:43.111744",
     "exception": false,
     "start_time": "2021-12-03T04:31:43.054863",
     "status": "completed"
    },
    "tags": []
   },
   "outputs": [],
   "source": [
    "#df_bl = resample(df, 'Severity', 20000)"
   ]
  },
  {
   "cell_type": "code",
   "execution_count": 25,
   "id": "b7ac2f7a",
   "metadata": {
    "execution": {
     "iopub.execute_input": "2021-12-03T04:31:43.214369Z",
     "iopub.status.busy": "2021-12-03T04:31:43.213773Z",
     "iopub.status.idle": "2021-12-03T04:31:43.545835Z",
     "shell.execute_reply": "2021-12-03T04:31:43.546347Z",
     "shell.execute_reply.started": "2021-12-03T04:26:04.561416Z"
    },
    "papermill": {
     "duration": 0.385491,
     "end_time": "2021-12-03T04:31:43.546539",
     "exception": false,
     "start_time": "2021-12-03T04:31:43.161048",
     "status": "completed"
    },
    "tags": []
   },
   "outputs": [
    {
     "data": {
      "image/png": "[encoded data removed]",
      "text/plain": [
       "<Figure size 720x360 with 1 Axes>"
      ]
     },
     "metadata": {
      "needs_background": "light"
     },
     "output_type": "display_data"
    }
   ],
   "source": [
    "plt.figure(figsize=(10,5))\n",
    "sns.countplot(x='Month', hue='Severity', data=df_bl ,palette=\"Set2\")\n",
    "plt.title('Count of Accidents by Month (resampled data)', size=15, y=1.05)\n",
    "plt.show()"
   ]
  },
  {
   "cell_type": "code",
   "execution_count": 26,
   "id": "6a10e4b7",
   "metadata": {
    "execution": {
     "iopub.execute_input": "2021-12-03T04:31:43.657011Z",
     "iopub.status.busy": "2021-12-03T04:31:43.656014Z",
     "iopub.status.idle": "2021-12-03T04:31:43.932975Z",
     "shell.execute_reply": "2021-12-03T04:31:43.933472Z",
     "shell.execute_reply.started": "2021-12-03T04:26:04.902244Z"
    },
    "papermill": {
     "duration": 0.333403,
     "end_time": "2021-12-03T04:31:43.933672",
     "exception": false,
     "start_time": "2021-12-03T04:31:43.600269",
     "status": "completed"
    },
    "tags": []
   },
   "outputs": [
    {
     "data": {
      "image/png": "[encoded data removed]",
      "text/plain": [
       "<Figure size 720x360 with 1 Axes>"
      ]
     },
     "metadata": {
      "needs_background": "light"
     },
     "output_type": "display_data"
    }
   ],
   "source": [
    "plt.figure(figsize=(10,5))\n",
    "sns.countplot(x='Weekday', hue='Severity', data=df_bl ,palette=\"Set2\")\n",
    "plt.title('Count of Accidents by Weekday (resampled data)', size=15, y=1.05)\n",
    "plt.show()"
   ]
  },
  {
   "cell_type": "code",
   "execution_count": 27,
   "id": "a97ca8f9",
   "metadata": {
    "execution": {
     "iopub.execute_input": "2021-12-03T04:31:44.043863Z",
     "iopub.status.busy": "2021-12-03T04:31:44.042867Z",
     "iopub.status.idle": "2021-12-03T04:31:44.393830Z",
     "shell.execute_reply": "2021-12-03T04:31:44.394353Z",
     "shell.execute_reply.started": "2021-12-03T04:26:05.174447Z"
    },
    "papermill": {
     "duration": 0.407236,
     "end_time": "2021-12-03T04:31:44.394522",
     "exception": false,
     "start_time": "2021-12-03T04:31:43.987286",
     "status": "completed"
    },
    "tags": []
   },
   "outputs": [
    {
     "data": {
      "image/png": "[encoded data removed]",
      "text/plain": [
       "<Figure size 1080x432 with 1 Axes>"
      ]
     },
     "metadata": {
      "needs_background": "light"
     },
     "output_type": "display_data"
    }
   ],
   "source": [
    "df_severe = df[df['Severity']=='Severe']\n",
    "\n",
    "plt.figure(figsize=(15,6))\n",
    "\n",
    "plt.plot( 'Start_Lng', 'Start_Lat', data=df, linestyle='', marker='o', markersize=2, color=\"black\", alpha=0.5, label='All Accidents')\n",
    "plt.plot( 'Start_Lng', 'Start_Lat', data=df_severe, linestyle='', marker='o', markersize=2, color=\"crimson\", alpha=0.5, label='Severe Accidents')\n",
    "plt.legend(markerscale=5)\n",
    "plt.xlabel('Longitude', size=18, labelpad=3)\n",
    "plt.ylabel('Latitude', size=18, labelpad=3)\n",
    "plt.title('NC Map of Accidents', size=24, y=1.05)\n",
    "plt.show()"
   ]
  },
  {
   "cell_type": "code",
   "execution_count": 28,
   "id": "eca6e39e",
   "metadata": {
    "execution": {
     "iopub.execute_input": "2021-12-03T04:31:44.510718Z",
     "iopub.status.busy": "2021-12-03T04:31:44.510035Z",
     "iopub.status.idle": "2021-12-03T04:31:45.284653Z",
     "shell.execute_reply": "2021-12-03T04:31:45.284042Z",
     "shell.execute_reply.started": "2021-12-03T04:26:05.521331Z"
    },
    "papermill": {
     "duration": 0.834443,
     "end_time": "2021-12-03T04:31:45.284802",
     "exception": false,
     "start_time": "2021-12-03T04:31:44.450359",
     "status": "completed"
    },
    "tags": []
   },
   "outputs": [
    {
     "data": {
      "text/html": [
       "<div>\n",
       "<style scoped>\n",
       "    .dataframe tbody tr th:only-of-type {\n",
       "        vertical-align: middle;\n",
       "    }\n",
       "\n",
       "    .dataframe tbody tr th {\n",
       "        vertical-align: top;\n",
       "    }\n",
       "\n",
       "    .dataframe thead th {\n",
       "        text-align: right;\n",
       "    }\n",
       "</style>\n",
       "<table border=\"1\" class=\"dataframe\">\n",
       "  <thead>\n",
       "    <tr style=\"text-align: right;\">\n",
       "      <th></th>\n",
       "      <th>Severity</th>\n",
       "      <th>Start_Time</th>\n",
       "      <th>Start_Lat</th>\n",
       "      <th>Start_Lng</th>\n",
       "      <th>Street</th>\n",
       "      <th>Side</th>\n",
       "      <th>City</th>\n",
       "      <th>County</th>\n",
       "      <th>State</th>\n",
       "      <th>Zipcode</th>\n",
       "      <th>...</th>\n",
       "      <th>Snow</th>\n",
       "      <th>Heavy_Snow</th>\n",
       "      <th>Fog</th>\n",
       "      <th>Year</th>\n",
       "      <th>Month</th>\n",
       "      <th>Weekday</th>\n",
       "      <th>Day</th>\n",
       "      <th>Hour</th>\n",
       "      <th>Minute</th>\n",
       "      <th>Precipitation_NA</th>\n",
       "    </tr>\n",
       "  </thead>\n",
       "  <tbody>\n",
       "    <tr>\n",
       "      <th>32553</th>\n",
       "      <td>Severe</td>\n",
       "      <td>2016-11-30 15:20:52</td>\n",
       "      <td>35.754390</td>\n",
       "      <td>-78.640210</td>\n",
       "      <td>US-64 E</td>\n",
       "      <td>R</td>\n",
       "      <td>Raleigh</td>\n",
       "      <td>Wake</td>\n",
       "      <td>NC</td>\n",
       "      <td>27603</td>\n",
       "      <td>...</td>\n",
       "      <td>False</td>\n",
       "      <td>False</td>\n",
       "      <td>False</td>\n",
       "      <td>2016</td>\n",
       "      <td>11</td>\n",
       "      <td>2</td>\n",
       "      <td>334</td>\n",
       "      <td>15</td>\n",
       "      <td>920.0</td>\n",
       "      <td>1</td>\n",
       "    </tr>\n",
       "    <tr>\n",
       "      <th>32559</th>\n",
       "      <td>Not Severe</td>\n",
       "      <td>2016-11-30 16:19:52</td>\n",
       "      <td>35.595783</td>\n",
       "      <td>-82.410179</td>\n",
       "      <td>I-40 W</td>\n",
       "      <td>R</td>\n",
       "      <td>Swannanoa</td>\n",
       "      <td>Buncombe</td>\n",
       "      <td>NC</td>\n",
       "      <td>28778</td>\n",
       "      <td>...</td>\n",
       "      <td>False</td>\n",
       "      <td>False</td>\n",
       "      <td>False</td>\n",
       "      <td>2016</td>\n",
       "      <td>11</td>\n",
       "      <td>2</td>\n",
       "      <td>334</td>\n",
       "      <td>16</td>\n",
       "      <td>979.0</td>\n",
       "      <td>0</td>\n",
       "    </tr>\n",
       "    <tr>\n",
       "      <th>32608</th>\n",
       "      <td>Severe</td>\n",
       "      <td>2016-11-30 18:02:07</td>\n",
       "      <td>35.252960</td>\n",
       "      <td>-80.891340</td>\n",
       "      <td>I-85 N</td>\n",
       "      <td>R</td>\n",
       "      <td>Charlotte</td>\n",
       "      <td>Mecklenburg</td>\n",
       "      <td>NC</td>\n",
       "      <td>28208</td>\n",
       "      <td>...</td>\n",
       "      <td>False</td>\n",
       "      <td>False</td>\n",
       "      <td>False</td>\n",
       "      <td>2016</td>\n",
       "      <td>11</td>\n",
       "      <td>2</td>\n",
       "      <td>334</td>\n",
       "      <td>18</td>\n",
       "      <td>1082.0</td>\n",
       "      <td>0</td>\n",
       "    </tr>\n",
       "  </tbody>\n",
       "</table>\n",
       "<p>3 rows × 49 columns</p>\n",
       "</div>"
      ],
      "text/plain": [
       "         Severity          Start_Time  Start_Lat  Start_Lng   Street Side  \\\n",
       "32553      Severe 2016-11-30 15:20:52  35.754390 -78.640210  US-64 E    R   \n",
       "32559  Not Severe 2016-11-30 16:19:52  35.595783 -82.410179   I-40 W    R   \n",
       "32608      Severe 2016-11-30 18:02:07  35.252960 -80.891340   I-85 N    R   \n",
       "\n",
       "            City       County State Zipcode  ...   Snow Heavy_Snow    Fog  \\\n",
       "32553    Raleigh         Wake    NC   27603  ...  False      False  False   \n",
       "32559  Swannanoa     Buncombe    NC   28778  ...  False      False  False   \n",
       "32608  Charlotte  Mecklenburg    NC   28208  ...  False      False  False   \n",
       "\n",
       "       Year  Month  Weekday  Day  Hour  Minute  Precipitation_NA  \n",
       "32553  2016     11        2  334    15   920.0                 1  \n",
       "32559  2016     11        2  334    16   979.0                 0  \n",
       "32608  2016     11        2  334    18  1082.0                 0  \n",
       "\n",
       "[3 rows x 49 columns]"
      ]
     },
     "metadata": {},
     "output_type": "display_data"
    },
    {
     "data": {
      "text/html": [
       "<div>\n",
       "<style scoped>\n",
       "    .dataframe tbody tr th:only-of-type {\n",
       "        vertical-align: middle;\n",
       "    }\n",
       "\n",
       "    .dataframe tbody tr th {\n",
       "        vertical-align: top;\n",
       "    }\n",
       "\n",
       "    .dataframe thead th {\n",
       "        text-align: right;\n",
       "    }\n",
       "</style>\n",
       "<table border=\"1\" class=\"dataframe\">\n",
       "  <thead>\n",
       "    <tr style=\"text-align: right;\">\n",
       "      <th></th>\n",
       "      <th>Severity</th>\n",
       "      <th>Start_Time</th>\n",
       "      <th>Start_Lat</th>\n",
       "      <th>Start_Lng</th>\n",
       "      <th>Street</th>\n",
       "      <th>Side</th>\n",
       "      <th>City</th>\n",
       "      <th>County</th>\n",
       "      <th>State</th>\n",
       "      <th>Zipcode</th>\n",
       "      <th>...</th>\n",
       "      <th>Snow</th>\n",
       "      <th>Heavy_Snow</th>\n",
       "      <th>Fog</th>\n",
       "      <th>Year</th>\n",
       "      <th>Month</th>\n",
       "      <th>Weekday</th>\n",
       "      <th>Day</th>\n",
       "      <th>Hour</th>\n",
       "      <th>Minute</th>\n",
       "      <th>Precipitation_NA</th>\n",
       "    </tr>\n",
       "  </thead>\n",
       "  <tbody>\n",
       "    <tr>\n",
       "      <th>32553</th>\n",
       "      <td>1</td>\n",
       "      <td>2016-11-30 15:20:52</td>\n",
       "      <td>35.754390</td>\n",
       "      <td>-78.640210</td>\n",
       "      <td>US-64 E</td>\n",
       "      <td>R</td>\n",
       "      <td>Raleigh</td>\n",
       "      <td>Wake</td>\n",
       "      <td>NC</td>\n",
       "      <td>27603</td>\n",
       "      <td>...</td>\n",
       "      <td>0</td>\n",
       "      <td>0</td>\n",
       "      <td>0</td>\n",
       "      <td>2016</td>\n",
       "      <td>11</td>\n",
       "      <td>2</td>\n",
       "      <td>334</td>\n",
       "      <td>15</td>\n",
       "      <td>920.0</td>\n",
       "      <td>1</td>\n",
       "    </tr>\n",
       "    <tr>\n",
       "      <th>32559</th>\n",
       "      <td>0</td>\n",
       "      <td>2016-11-30 16:19:52</td>\n",
       "      <td>35.595783</td>\n",
       "      <td>-82.410179</td>\n",
       "      <td>I-40 W</td>\n",
       "      <td>R</td>\n",
       "      <td>Swannanoa</td>\n",
       "      <td>Buncombe</td>\n",
       "      <td>NC</td>\n",
       "      <td>28778</td>\n",
       "      <td>...</td>\n",
       "      <td>0</td>\n",
       "      <td>0</td>\n",
       "      <td>0</td>\n",
       "      <td>2016</td>\n",
       "      <td>11</td>\n",
       "      <td>2</td>\n",
       "      <td>334</td>\n",
       "      <td>16</td>\n",
       "      <td>979.0</td>\n",
       "      <td>0</td>\n",
       "    </tr>\n",
       "    <tr>\n",
       "      <th>32608</th>\n",
       "      <td>1</td>\n",
       "      <td>2016-11-30 18:02:07</td>\n",
       "      <td>35.252960</td>\n",
       "      <td>-80.891340</td>\n",
       "      <td>I-85 N</td>\n",
       "      <td>R</td>\n",
       "      <td>Charlotte</td>\n",
       "      <td>Mecklenburg</td>\n",
       "      <td>NC</td>\n",
       "      <td>28208</td>\n",
       "      <td>...</td>\n",
       "      <td>0</td>\n",
       "      <td>0</td>\n",
       "      <td>0</td>\n",
       "      <td>2016</td>\n",
       "      <td>11</td>\n",
       "      <td>2</td>\n",
       "      <td>334</td>\n",
       "      <td>18</td>\n",
       "      <td>1082.0</td>\n",
       "      <td>0</td>\n",
       "    </tr>\n",
       "  </tbody>\n",
       "</table>\n",
       "<p>3 rows × 49 columns</p>\n",
       "</div>"
      ],
      "text/plain": [
       "       Severity          Start_Time  Start_Lat  Start_Lng   Street Side  \\\n",
       "32553         1 2016-11-30 15:20:52  35.754390 -78.640210  US-64 E    R   \n",
       "32559         0 2016-11-30 16:19:52  35.595783 -82.410179   I-40 W    R   \n",
       "32608         1 2016-11-30 18:02:07  35.252960 -80.891340   I-85 N    R   \n",
       "\n",
       "            City       County State Zipcode  ... Snow Heavy_Snow  Fog  Year  \\\n",
       "32553    Raleigh         Wake    NC   27603  ...    0          0    0  2016   \n",
       "32559  Swannanoa     Buncombe    NC   28778  ...    0          0    0  2016   \n",
       "32608  Charlotte  Mecklenburg    NC   28208  ...    0          0    0  2016   \n",
       "\n",
       "       Month  Weekday  Day  Hour  Minute  Precipitation_NA  \n",
       "32553     11        2  334    15   920.0                 1  \n",
       "32559     11        2  334    16   979.0                 0  \n",
       "32608     11        2  334    18  1082.0                 0  \n",
       "\n",
       "[3 rows x 49 columns]"
      ]
     },
     "metadata": {},
     "output_type": "display_data"
    },
    {
     "data": {
      "text/html": [
       "<div>\n",
       "<style scoped>\n",
       "    .dataframe tbody tr th:only-of-type {\n",
       "        vertical-align: middle;\n",
       "    }\n",
       "\n",
       "    .dataframe tbody tr th {\n",
       "        vertical-align: top;\n",
       "    }\n",
       "\n",
       "    .dataframe thead th {\n",
       "        text-align: right;\n",
       "    }\n",
       "</style>\n",
       "<table border=\"1\" class=\"dataframe\">\n",
       "  <thead>\n",
       "    <tr style=\"text-align: right;\">\n",
       "      <th></th>\n",
       "      <th>Side_R</th>\n",
       "      <th>Weekday_1</th>\n",
       "      <th>Weekday_2</th>\n",
       "      <th>Weekday_3</th>\n",
       "      <th>Weekday_4</th>\n",
       "      <th>Weekday_5</th>\n",
       "      <th>Weekday_6</th>\n",
       "      <th>Severity</th>\n",
       "      <th>Amenity</th>\n",
       "      <th>Bump</th>\n",
       "      <th>...</th>\n",
       "      <th>Precipitation_NA</th>\n",
       "      <th>Start_Lat</th>\n",
       "      <th>Start_Lng</th>\n",
       "      <th>Temperature(F)</th>\n",
       "      <th>Humidity(%)</th>\n",
       "      <th>Pressure(in)</th>\n",
       "      <th>Visibility(mi)</th>\n",
       "      <th>Wind_Speed(mph)</th>\n",
       "      <th>Precipitation(in)</th>\n",
       "      <th>Minute</th>\n",
       "    </tr>\n",
       "  </thead>\n",
       "  <tbody>\n",
       "    <tr>\n",
       "      <th>32553</th>\n",
       "      <td>1</td>\n",
       "      <td>0</td>\n",
       "      <td>1</td>\n",
       "      <td>0</td>\n",
       "      <td>0</td>\n",
       "      <td>0</td>\n",
       "      <td>0</td>\n",
       "      <td>1</td>\n",
       "      <td>0</td>\n",
       "      <td>0</td>\n",
       "      <td>...</td>\n",
       "      <td>1</td>\n",
       "      <td>35.754391</td>\n",
       "      <td>-78.640213</td>\n",
       "      <td>75.000000</td>\n",
       "      <td>64.0</td>\n",
       "      <td>29.770000</td>\n",
       "      <td>10.0</td>\n",
       "      <td>20.700001</td>\n",
       "      <td>0.00</td>\n",
       "      <td>920.0</td>\n",
       "    </tr>\n",
       "    <tr>\n",
       "      <th>32559</th>\n",
       "      <td>1</td>\n",
       "      <td>0</td>\n",
       "      <td>1</td>\n",
       "      <td>0</td>\n",
       "      <td>0</td>\n",
       "      <td>0</td>\n",
       "      <td>0</td>\n",
       "      <td>0</td>\n",
       "      <td>0</td>\n",
       "      <td>0</td>\n",
       "      <td>...</td>\n",
       "      <td>0</td>\n",
       "      <td>35.595783</td>\n",
       "      <td>-82.410179</td>\n",
       "      <td>60.099998</td>\n",
       "      <td>86.0</td>\n",
       "      <td>29.690001</td>\n",
       "      <td>7.0</td>\n",
       "      <td>5.800000</td>\n",
       "      <td>0.26</td>\n",
       "      <td>979.0</td>\n",
       "    </tr>\n",
       "    <tr>\n",
       "      <th>32608</th>\n",
       "      <td>1</td>\n",
       "      <td>0</td>\n",
       "      <td>1</td>\n",
       "      <td>0</td>\n",
       "      <td>0</td>\n",
       "      <td>0</td>\n",
       "      <td>0</td>\n",
       "      <td>1</td>\n",
       "      <td>0</td>\n",
       "      <td>0</td>\n",
       "      <td>...</td>\n",
       "      <td>0</td>\n",
       "      <td>35.252960</td>\n",
       "      <td>-80.891342</td>\n",
       "      <td>66.900002</td>\n",
       "      <td>87.0</td>\n",
       "      <td>29.719999</td>\n",
       "      <td>8.0</td>\n",
       "      <td>11.500000</td>\n",
       "      <td>0.05</td>\n",
       "      <td>1082.0</td>\n",
       "    </tr>\n",
       "  </tbody>\n",
       "</table>\n",
       "<p>3 rows × 41 columns</p>\n",
       "</div>"
      ],
      "text/plain": [
       "       Side_R  Weekday_1  Weekday_2  Weekday_3  Weekday_4  Weekday_5  \\\n",
       "32553       1          0          1          0          0          0   \n",
       "32559       1          0          1          0          0          0   \n",
       "32608       1          0          1          0          0          0   \n",
       "\n",
       "       Weekday_6  Severity  Amenity  Bump  ...  Precipitation_NA  Start_Lat  \\\n",
       "32553          0         1        0     0  ...                 1  35.754391   \n",
       "32559          0         0        0     0  ...                 0  35.595783   \n",
       "32608          0         1        0     0  ...                 0  35.252960   \n",
       "\n",
       "       Start_Lng  Temperature(F)  Humidity(%)  Pressure(in)  Visibility(mi)  \\\n",
       "32553 -78.640213       75.000000         64.0     29.770000            10.0   \n",
       "32559 -82.410179       60.099998         86.0     29.690001             7.0   \n",
       "32608 -80.891342       66.900002         87.0     29.719999             8.0   \n",
       "\n",
       "       Wind_Speed(mph)  Precipitation(in)  Minute  \n",
       "32553        20.700001               0.00   920.0  \n",
       "32559         5.800000               0.26   979.0  \n",
       "32608        11.500000               0.05  1082.0  \n",
       "\n",
       "[3 rows x 41 columns]"
      ]
     },
     "metadata": {},
     "output_type": "display_data"
    },
    {
     "name": "stdout",
     "output_type": "stream",
     "text": [
      "<class 'pandas.core.frame.DataFrame'>\n",
      "Int64Index: 49636 entries, 32553 to 1515712\n",
      "Data columns (total 41 columns):\n",
      " #   Column             Non-Null Count  Dtype  \n",
      "---  ------             --------------  -----  \n",
      " 0   Side_R             49636 non-null  uint8  \n",
      " 1   Weekday_1          49636 non-null  uint8  \n",
      " 2   Weekday_2          49636 non-null  uint8  \n",
      " 3   Weekday_3          49636 non-null  uint8  \n",
      " 4   Weekday_4          49636 non-null  uint8  \n",
      " 5   Weekday_5          49636 non-null  uint8  \n",
      " 6   Weekday_6          49636 non-null  uint8  \n",
      " 7   Severity           49636 non-null  uint8  \n",
      " 8   Amenity            49636 non-null  uint8  \n",
      " 9   Bump               49636 non-null  uint8  \n",
      " 10  Crossing           49636 non-null  uint8  \n",
      " 11  Give_Way           49636 non-null  uint8  \n",
      " 12  Junction           49636 non-null  uint8  \n",
      " 13  No_Exit            49636 non-null  uint8  \n",
      " 14  Railway            49636 non-null  uint8  \n",
      " 15  Roundabout         49636 non-null  uint8  \n",
      " 16  Station            49636 non-null  uint8  \n",
      " 17  Stop               49636 non-null  uint8  \n",
      " 18  Traffic_Calming    49636 non-null  uint8  \n",
      " 19  Traffic_Signal     49636 non-null  uint8  \n",
      " 20  Clear              49636 non-null  uint8  \n",
      " 21  Cloud              49636 non-null  uint8  \n",
      " 22  Rain               49636 non-null  uint8  \n",
      " 23  Heavy_Rain         49636 non-null  uint8  \n",
      " 24  Snow               49636 non-null  uint8  \n",
      " 25  Heavy_Snow         49636 non-null  uint8  \n",
      " 26  Fog                49636 non-null  uint8  \n",
      " 27  Year               49636 non-null  uint16 \n",
      " 28  Month              49636 non-null  uint8  \n",
      " 29  Day                49636 non-null  uint16 \n",
      " 30  Hour               49636 non-null  uint8  \n",
      " 31  Precipitation_NA   49636 non-null  uint8  \n",
      " 32  Start_Lat          49636 non-null  float32\n",
      " 33  Start_Lng          49636 non-null  float32\n",
      " 34  Temperature(F)     49636 non-null  float32\n",
      " 35  Humidity(%)        49636 non-null  float32\n",
      " 36  Pressure(in)       49636 non-null  float32\n",
      " 37  Visibility(mi)     49636 non-null  float32\n",
      " 38  Wind_Speed(mph)    49636 non-null  float32\n",
      " 39  Precipitation(in)  49636 non-null  float32\n",
      " 40  Minute             49636 non-null  float32\n",
      "dtypes: float32(9), uint16(2), uint8(30)\n",
      "memory usage: 4.7 MB\n"
     ]
    }
   ],
   "source": [
    "display(df.head(3))\n",
    "df.loc[df['Severity']=='Severe','Severity'] = 1\n",
    "df.loc[df['Severity']=='Not Severe','Severity'] = 0\n",
    "\n",
    "df = df.replace([True, False], [1,0])\n",
    "display(df.head(3))\n",
    "\n",
    "cat = ['Side','Timezone','Weekday']\n",
    "df[cat] = df[cat].astype('category')\n",
    "df = pd.get_dummies(df, columns=cat, drop_first=True)\n",
    "\n",
    "df_int = df.select_dtypes(include=['int']).apply(pd.to_numeric,downcast='unsigned')\n",
    "df_float = df.select_dtypes(include=['float']).apply(pd.to_numeric,downcast='float')\n",
    "df = pd.concat([df.select_dtypes(include=['uint8']),df_int,df_float],axis=1)\n",
    "display(df.head(3))\n",
    "df.info()"
   ]
  },
  {
   "cell_type": "markdown",
   "id": "f1403e97",
   "metadata": {
    "papermill": {
     "duration": 0.056782,
     "end_time": "2021-12-03T04:31:45.398361",
     "exception": false,
     "start_time": "2021-12-03T04:31:45.341579",
     "status": "completed"
    },
    "tags": []
   },
   "source": [
    "**Baseline Model**"
   ]
  },
  {
   "cell_type": "code",
   "execution_count": 29,
   "id": "de8c2fd3",
   "metadata": {
    "execution": {
     "iopub.execute_input": "2021-12-03T04:31:45.517747Z",
     "iopub.status.busy": "2021-12-03T04:31:45.517093Z",
     "iopub.status.idle": "2021-12-03T04:31:45.975291Z",
     "shell.execute_reply": "2021-12-03T04:31:45.974713Z",
     "shell.execute_reply.started": "2021-12-03T04:26:06.060778Z"
    },
    "papermill": {
     "duration": 0.52041,
     "end_time": "2021-12-03T04:31:45.975450",
     "exception": false,
     "start_time": "2021-12-03T04:31:45.455040",
     "status": "completed"
    },
    "tags": []
   },
   "outputs": [],
   "source": [
    "from sklearn.model_selection import GridSearchCV, KFold, train_test_split, cross_val_predict\n",
    "from sklearn.metrics import classification_report, confusion_matrix\n",
    "from sklearn.linear_model import LogisticRegression\n",
    "from sklearn.ensemble import AdaBoostClassifier, RandomForestClassifier\n",
    "from imblearn.under_sampling import RandomUnderSampler\n",
    "from collections import Counter"
   ]
  },
  {
   "cell_type": "markdown",
   "id": "6de9e8ab",
   "metadata": {
    "papermill": {
     "duration": 0.057042,
     "end_time": "2021-12-03T04:31:46.090769",
     "exception": false,
     "start_time": "2021-12-03T04:31:46.033727",
     "status": "completed"
    },
    "tags": []
   },
   "source": [
    "**Train Test Split**"
   ]
  },
  {
   "cell_type": "code",
   "execution_count": 30,
   "id": "1503156e",
   "metadata": {
    "execution": {
     "iopub.execute_input": "2021-12-03T04:31:46.209336Z",
     "iopub.status.busy": "2021-12-03T04:31:46.208715Z",
     "iopub.status.idle": "2021-12-03T04:31:46.241213Z",
     "shell.execute_reply": "2021-12-03T04:31:46.241784Z",
     "shell.execute_reply.started": "2021-12-03T04:26:06.068031Z"
    },
    "papermill": {
     "duration": 0.093298,
     "end_time": "2021-12-03T04:31:46.241960",
     "exception": false,
     "start_time": "2021-12-03T04:31:46.148662",
     "status": "completed"
    },
    "tags": []
   },
   "outputs": [
    {
     "data": {
      "text/html": [
       "<div>\n",
       "<style scoped>\n",
       "    .dataframe tbody tr th:only-of-type {\n",
       "        vertical-align: middle;\n",
       "    }\n",
       "\n",
       "    .dataframe tbody tr th {\n",
       "        vertical-align: top;\n",
       "    }\n",
       "\n",
       "    .dataframe thead th {\n",
       "        text-align: right;\n",
       "    }\n",
       "</style>\n",
       "<table border=\"1\" class=\"dataframe\">\n",
       "  <thead>\n",
       "    <tr style=\"text-align: right;\">\n",
       "      <th></th>\n",
       "      <th>Side_R</th>\n",
       "      <th>Weekday_1</th>\n",
       "      <th>Weekday_2</th>\n",
       "      <th>Weekday_3</th>\n",
       "      <th>Weekday_4</th>\n",
       "      <th>Weekday_5</th>\n",
       "      <th>Weekday_6</th>\n",
       "      <th>Severity</th>\n",
       "      <th>Amenity</th>\n",
       "      <th>Bump</th>\n",
       "      <th>...</th>\n",
       "      <th>Precipitation_NA</th>\n",
       "      <th>Start_Lat</th>\n",
       "      <th>Start_Lng</th>\n",
       "      <th>Temperature(F)</th>\n",
       "      <th>Humidity(%)</th>\n",
       "      <th>Pressure(in)</th>\n",
       "      <th>Visibility(mi)</th>\n",
       "      <th>Wind_Speed(mph)</th>\n",
       "      <th>Precipitation(in)</th>\n",
       "      <th>Minute</th>\n",
       "    </tr>\n",
       "  </thead>\n",
       "  <tbody>\n",
       "    <tr>\n",
       "      <th>32553</th>\n",
       "      <td>1</td>\n",
       "      <td>0</td>\n",
       "      <td>1</td>\n",
       "      <td>0</td>\n",
       "      <td>0</td>\n",
       "      <td>0</td>\n",
       "      <td>0</td>\n",
       "      <td>1</td>\n",
       "      <td>0</td>\n",
       "      <td>0</td>\n",
       "      <td>...</td>\n",
       "      <td>1</td>\n",
       "      <td>35.754391</td>\n",
       "      <td>-78.640213</td>\n",
       "      <td>75.000000</td>\n",
       "      <td>64.0</td>\n",
       "      <td>29.770000</td>\n",
       "      <td>10.0</td>\n",
       "      <td>20.700001</td>\n",
       "      <td>0.00</td>\n",
       "      <td>920.0</td>\n",
       "    </tr>\n",
       "    <tr>\n",
       "      <th>32559</th>\n",
       "      <td>1</td>\n",
       "      <td>0</td>\n",
       "      <td>1</td>\n",
       "      <td>0</td>\n",
       "      <td>0</td>\n",
       "      <td>0</td>\n",
       "      <td>0</td>\n",
       "      <td>0</td>\n",
       "      <td>0</td>\n",
       "      <td>0</td>\n",
       "      <td>...</td>\n",
       "      <td>0</td>\n",
       "      <td>35.595783</td>\n",
       "      <td>-82.410179</td>\n",
       "      <td>60.099998</td>\n",
       "      <td>86.0</td>\n",
       "      <td>29.690001</td>\n",
       "      <td>7.0</td>\n",
       "      <td>5.800000</td>\n",
       "      <td>0.26</td>\n",
       "      <td>979.0</td>\n",
       "    </tr>\n",
       "    <tr>\n",
       "      <th>32608</th>\n",
       "      <td>1</td>\n",
       "      <td>0</td>\n",
       "      <td>1</td>\n",
       "      <td>0</td>\n",
       "      <td>0</td>\n",
       "      <td>0</td>\n",
       "      <td>0</td>\n",
       "      <td>1</td>\n",
       "      <td>0</td>\n",
       "      <td>0</td>\n",
       "      <td>...</td>\n",
       "      <td>0</td>\n",
       "      <td>35.252960</td>\n",
       "      <td>-80.891342</td>\n",
       "      <td>66.900002</td>\n",
       "      <td>87.0</td>\n",
       "      <td>29.719999</td>\n",
       "      <td>8.0</td>\n",
       "      <td>11.500000</td>\n",
       "      <td>0.05</td>\n",
       "      <td>1082.0</td>\n",
       "    </tr>\n",
       "  </tbody>\n",
       "</table>\n",
       "<p>3 rows × 41 columns</p>\n",
       "</div>"
      ],
      "text/plain": [
       "       Side_R  Weekday_1  Weekday_2  Weekday_3  Weekday_4  Weekday_5  \\\n",
       "32553       1          0          1          0          0          0   \n",
       "32559       1          0          1          0          0          0   \n",
       "32608       1          0          1          0          0          0   \n",
       "\n",
       "       Weekday_6  Severity  Amenity  Bump  ...  Precipitation_NA  Start_Lat  \\\n",
       "32553          0         1        0     0  ...                 1  35.754391   \n",
       "32559          0         0        0     0  ...                 0  35.595783   \n",
       "32608          0         1        0     0  ...                 0  35.252960   \n",
       "\n",
       "       Start_Lng  Temperature(F)  Humidity(%)  Pressure(in)  Visibility(mi)  \\\n",
       "32553 -78.640213       75.000000         64.0     29.770000            10.0   \n",
       "32559 -82.410179       60.099998         86.0     29.690001             7.0   \n",
       "32608 -80.891342       66.900002         87.0     29.719999             8.0   \n",
       "\n",
       "       Wind_Speed(mph)  Precipitation(in)  Minute  \n",
       "32553        20.700001               0.00   920.0  \n",
       "32559         5.800000               0.26   979.0  \n",
       "32608        11.500000               0.05  1082.0  \n",
       "\n",
       "[3 rows x 41 columns]"
      ]
     },
     "metadata": {},
     "output_type": "display_data"
    }
   ],
   "source": [
    "display(df.head(3))\n",
    "# split X, y\n",
    "X = df.drop('Severity', axis=1)\n",
    "y= df['Severity']\n",
    "\n",
    "# split train, test\n",
    "X_train, X_test, y_train, y_test = train_test_split(\\\n",
    "  X, y, test_size=0.30, random_state=42)"
   ]
  },
  {
   "cell_type": "code",
   "execution_count": 31,
   "id": "93d12421",
   "metadata": {
    "execution": {
     "iopub.execute_input": "2021-12-03T04:31:46.362426Z",
     "iopub.status.busy": "2021-12-03T04:31:46.361708Z",
     "iopub.status.idle": "2021-12-03T04:31:46.417406Z",
     "shell.execute_reply": "2021-12-03T04:31:46.417905Z",
     "shell.execute_reply.started": "2021-12-03T04:26:06.116076Z"
    },
    "papermill": {
     "duration": 0.117258,
     "end_time": "2021-12-03T04:31:46.418087",
     "exception": false,
     "start_time": "2021-12-03T04:31:46.300829",
     "status": "completed"
    },
    "tags": []
   },
   "outputs": [
    {
     "name": "stdout",
     "output_type": "stream",
     "text": [
      "Distribution of class labels before resampling Counter({0: 30121, 1: 4624})\n",
      "Distribution of class labels after resampling Counter({0: 23120, 1: 4624})\n"
     ]
    }
   ],
   "source": [
    "# Randomly undersample majority class to about 5 times of minority class\n",
    "rus = RandomUnderSampler(sampling_strategy = 0.2, random_state=42)\n",
    "X_train_res, y_train_res = rus.fit_resample(X_train, y_train)\n",
    "print (\"Distribution of class labels before resampling {}\".format(Counter(y_train)))\n",
    "print (\"Distribution of class labels after resampling {}\".format(Counter(y_train_res)))"
   ]
  },
  {
   "cell_type": "markdown",
   "id": "4cd9f9f9",
   "metadata": {
    "papermill": {
     "duration": 0.057774,
     "end_time": "2021-12-03T04:31:46.534276",
     "exception": false,
     "start_time": "2021-12-03T04:31:46.476502",
     "status": "completed"
    },
    "tags": []
   },
   "source": [
    "**Baseline:Random Forest**"
   ]
  },
  {
   "cell_type": "code",
   "execution_count": 32,
   "id": "80684938",
   "metadata": {
    "execution": {
     "iopub.execute_input": "2021-12-03T04:31:46.656910Z",
     "iopub.status.busy": "2021-12-03T04:31:46.656260Z",
     "iopub.status.idle": "2021-12-03T04:32:23.147820Z",
     "shell.execute_reply": "2021-12-03T04:32:23.148372Z",
     "shell.execute_reply.started": "2021-12-03T04:26:06.172747Z"
    },
    "papermill": {
     "duration": 36.556306,
     "end_time": "2021-12-03T04:32:23.148555",
     "exception": false,
     "start_time": "2021-12-03T04:31:46.592249",
     "status": "completed"
    },
    "tags": []
   },
   "outputs": [
    {
     "name": "stdout",
     "output_type": "stream",
     "text": [
      "              precision    recall  f1-score   support\n",
      "\n",
      "           0       0.92      0.96      0.94     12912\n",
      "           1       0.64      0.46      0.53      1979\n",
      "\n",
      "    accuracy                           0.89     14891\n",
      "   macro avg       0.78      0.71      0.74     14891\n",
      "weighted avg       0.88      0.89      0.89     14891\n",
      "\n"
     ]
    }
   ],
   "source": [
    "clf_base = RandomForestClassifier()\n",
    "grid = {'n_estimators': [10, 50, 100],\n",
    "        'max_features': ['auto','sqrt']}\n",
    "clf_rf = GridSearchCV(clf_base, grid, cv=5, n_jobs=8, scoring='f1_macro')\n",
    "\n",
    "clf_rf.fit(X_train_res, y_train_res)\n",
    "y_pred = clf_rf.predict(X_test)\n",
    "\n",
    "print (classification_report(y_test, y_pred))"
   ]
  },
  {
   "cell_type": "markdown",
   "id": "1ca0f797",
   "metadata": {
    "papermill": {
     "duration": 0.058934,
     "end_time": "2021-12-03T04:32:23.266041",
     "exception": false,
     "start_time": "2021-12-03T04:32:23.207107",
     "status": "completed"
    },
    "tags": []
   },
   "source": [
    "Try a different ratio."
   ]
  },
  {
   "cell_type": "code",
   "execution_count": 33,
   "id": "5232342a",
   "metadata": {
    "execution": {
     "iopub.execute_input": "2021-12-03T04:32:23.394129Z",
     "iopub.status.busy": "2021-12-03T04:32:23.393338Z",
     "iopub.status.idle": "2021-12-03T04:32:24.087652Z",
     "shell.execute_reply": "2021-12-03T04:32:24.088134Z",
     "shell.execute_reply.started": "2021-12-03T04:26:42.350246Z"
    },
    "papermill": {
     "duration": 0.763242,
     "end_time": "2021-12-03T04:32:24.088311",
     "exception": false,
     "start_time": "2021-12-03T04:32:23.325069",
     "status": "completed"
    },
    "tags": []
   },
   "outputs": [
    {
     "data": {
      "image/png": "[encoded data removed]",
      "text/plain": [
       "<Figure size 1080x720 with 1 Axes>"
      ]
     },
     "metadata": {
      "needs_background": "light"
     },
     "output_type": "display_data"
    }
   ],
   "source": [
    "importances = pd.DataFrame(np.zeros((X_train_res.shape[1], 1)), columns=['importance'], index=df.drop('Severity',axis=1).columns)\n",
    "\n",
    "importances.iloc[:,0] = clf_rf.best_estimator_.feature_importances_\n",
    "\n",
    "importances.sort_values(by='importance', inplace=True, ascending=False)\n",
    "importances30 = importances.head(30)\n",
    "\n",
    "plt.figure(figsize=(15, 10))\n",
    "sns.barplot(x='importance', y=importances30.index, data=importances30)\n",
    "\n",
    "plt.xlabel('')\n",
    "plt.tick_params(axis='x', labelsize=10)\n",
    "plt.tick_params(axis='y', labelsize=10)\n",
    "plt.title('Random Forest Classifier Feature Importance', size=15)\n",
    "\n",
    "plt.show()"
   ]
  },
  {
   "cell_type": "markdown",
   "id": "5f79ccf7",
   "metadata": {
    "papermill": {
     "duration": 0.059341,
     "end_time": "2021-12-03T04:32:24.208848",
     "exception": false,
     "start_time": "2021-12-03T04:32:24.149507",
     "status": "completed"
    },
    "tags": []
   },
   "source": []
  },
  {
   "cell_type": "code",
   "execution_count": 34,
   "id": "703a21a1",
   "metadata": {
    "execution": {
     "iopub.execute_input": "2021-12-03T04:32:24.332434Z",
     "iopub.status.busy": "2021-12-03T04:32:24.331798Z",
     "iopub.status.idle": "2021-12-03T04:32:29.687822Z",
     "shell.execute_reply": "2021-12-03T04:32:29.686761Z",
     "shell.execute_reply.started": "2021-12-03T04:26:42.842960Z"
    },
    "papermill": {
     "duration": 5.419249,
     "end_time": "2021-12-03T04:32:29.688085",
     "exception": false,
     "start_time": "2021-12-03T04:32:24.268836",
     "status": "completed"
    },
    "tags": []
   },
   "outputs": [
    {
     "name": "stdout",
     "output_type": "stream",
     "text": [
      "              precision    recall  f1-score   support\n",
      "\n",
      "           0       0.87      1.00      0.93     12912\n",
      "           1       0.00      0.00      0.00      1979\n",
      "\n",
      "    accuracy                           0.87     14891\n",
      "   macro avg       0.43      0.50      0.46     14891\n",
      "weighted avg       0.75      0.87      0.81     14891\n",
      "\n"
     ]
    },
    {
     "name": "stderr",
     "output_type": "stream",
     "text": [
      "/opt/conda/lib/python3.7/site-packages/sklearn/metrics/_classification.py:1221: UndefinedMetricWarning: Precision and F-score are ill-defined and being set to 0.0 in labels with no predicted samples. Use `zero_division` parameter to control this behavior.\n",
      "  _warn_prf(average, modifier, msg_start, len(result))\n"
     ]
    }
   ],
   "source": [
    "from sklearn import neural_network\n",
    "import time\n",
    "\n",
    "clf_rf = neural_network.MLPClassifier(hidden_layer_sizes=(5, 2))\n",
    "clf_rf.fit(X_train_res,y_train_res)\n",
    "y_pred=clf_rf.predict(X_test)\n",
    "\n",
    "print (classification_report(y_test, y_pred))\n",
    "\n"
   ]
  },
  {
   "cell_type": "markdown",
   "id": "479d388c",
   "metadata": {
    "papermill": {
     "duration": 0.0598,
     "end_time": "2021-12-03T04:32:29.840262",
     "exception": false,
     "start_time": "2021-12-03T04:32:29.780462",
     "status": "completed"
    },
    "tags": []
   },
   "source": [
    "svm Model"
   ]
  },
  {
   "cell_type": "code",
   "execution_count": 35,
   "id": "df518b9d",
   "metadata": {
    "execution": {
     "iopub.execute_input": "2021-12-03T04:32:29.968683Z",
     "iopub.status.busy": "2021-12-03T04:32:29.967994Z",
     "iopub.status.idle": "2021-12-03T04:35:29.047673Z",
     "shell.execute_reply": "2021-12-03T04:35:29.048236Z"
    },
    "papermill": {
     "duration": 179.1479,
     "end_time": "2021-12-03T04:35:29.048480",
     "exception": false,
     "start_time": "2021-12-03T04:32:29.900580",
     "status": "completed"
    },
    "tags": []
   },
   "outputs": [
    {
     "name": "stdout",
     "output_type": "stream",
     "text": [
      "              precision    recall  f1-score   support\n",
      "\n",
      "           0       0.89      0.99      0.94     12912\n",
      "           1       0.72      0.22      0.34      1979\n",
      "\n",
      "    accuracy                           0.89     14891\n",
      "   macro avg       0.80      0.60      0.64     14891\n",
      "weighted avg       0.87      0.89      0.86     14891\n",
      "\n"
     ]
    }
   ],
   "source": [
    "from sklearn import svm\n",
    "\n",
    "\n",
    "clf_rf = svm.SVC(gamma='auto')\n",
    "clf_rf.fit(X_train_res,y_train_res)\n",
    "y_pred = clf_rf.predict(X_test)\n",
    "print (classification_report(y_test, y_pred))"
   ]
  },
  {
   "cell_type": "markdown",
   "id": "5e01fa5f",
   "metadata": {
    "papermill": {
     "duration": 0.060212,
     "end_time": "2021-12-03T04:35:29.169751",
     "exception": false,
     "start_time": "2021-12-03T04:35:29.109539",
     "status": "completed"
    },
    "tags": []
   },
   "source": [
    "**Neural network model**"
   ]
  }
 ],
 "metadata": {
  "kernelspec": {
   "display_name": "Python 3 (ipykernel)",
   "language": "python",
   "name": "python3"
  },
  "language_info": {
   "codemirror_mode": {
    "name": "ipython",
    "version": 3
   },
   "file_extension": ".py",
   "mimetype": "text/x-python",
   "name": "python",
   "nbconvert_exporter": "python",
   "pygments_lexer": "ipython3",
   "version": "3.10.6"
  },
  "papermill": {
   "default_parameters": {},
   "duration": 383.975653,
   "end_time": "2021-12-03T04:35:30.346071",
   "environment_variables": {},
   "exception": null,
   "input_path": "__notebook__.ipynb",
   "output_path": "__notebook__.ipynb",
   "parameters": {},
   "start_time": "2021-12-03T04:29:06.370418",
   "version": "2.3.3"
  }
 },
 "nbformat": 4,
 "nbformat_minor": 5
}
